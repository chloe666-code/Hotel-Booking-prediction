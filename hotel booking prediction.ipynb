{
 "cells": [
  {
   "cell_type": "code",
   "execution_count": 1,
   "id": "eddb0eb0",
   "metadata": {},
   "outputs": [],
   "source": [
    "#import libaries \n",
    "import pandas as pd\n",
    "import numpy as np\n",
    "import seaborn as sns\n",
    "import matplotlib as plt\n",
    "import matplotlib.pyplot as plt\n",
    "\n",
    "#removing warnings from the output\n",
    "import warnings\n",
    "warnings.filterwarnings(\"ignore\")"
   ]
  },
  {
   "cell_type": "code",
   "execution_count": 2,
   "id": "d0954edf",
   "metadata": {},
   "outputs": [],
   "source": [
    "hotel_booking = pd.read_csv('hotel_booking.csv')"
   ]
  },
  {
   "cell_type": "code",
   "execution_count": 3,
   "id": "d9b44737",
   "metadata": {
    "scrolled": false
   },
   "outputs": [
    {
     "data": {
      "text/html": [
       "<div>\n",
       "<style scoped>\n",
       "    .dataframe tbody tr th:only-of-type {\n",
       "        vertical-align: middle;\n",
       "    }\n",
       "\n",
       "    .dataframe tbody tr th {\n",
       "        vertical-align: top;\n",
       "    }\n",
       "\n",
       "    .dataframe thead th {\n",
       "        text-align: right;\n",
       "    }\n",
       "</style>\n",
       "<table border=\"1\" class=\"dataframe\">\n",
       "  <thead>\n",
       "    <tr style=\"text-align: right;\">\n",
       "      <th></th>\n",
       "      <th>hotel</th>\n",
       "      <th>is_canceled</th>\n",
       "      <th>lead_time</th>\n",
       "      <th>arrival_date_year</th>\n",
       "      <th>arrival_date_month</th>\n",
       "      <th>arrival_date_week_number</th>\n",
       "      <th>arrival_date_day_of_month</th>\n",
       "      <th>stays_in_weekend_nights</th>\n",
       "      <th>stays_in_week_nights</th>\n",
       "      <th>adults</th>\n",
       "      <th>...</th>\n",
       "      <th>customer_type</th>\n",
       "      <th>adr</th>\n",
       "      <th>required_car_parking_spaces</th>\n",
       "      <th>total_of_special_requests</th>\n",
       "      <th>reservation_status</th>\n",
       "      <th>reservation_status_date</th>\n",
       "      <th>name</th>\n",
       "      <th>email</th>\n",
       "      <th>phone-number</th>\n",
       "      <th>credit_card</th>\n",
       "    </tr>\n",
       "  </thead>\n",
       "  <tbody>\n",
       "    <tr>\n",
       "      <th>0</th>\n",
       "      <td>Resort Hotel</td>\n",
       "      <td>0</td>\n",
       "      <td>342</td>\n",
       "      <td>2015</td>\n",
       "      <td>July</td>\n",
       "      <td>27</td>\n",
       "      <td>1</td>\n",
       "      <td>0</td>\n",
       "      <td>0</td>\n",
       "      <td>2</td>\n",
       "      <td>...</td>\n",
       "      <td>Transient</td>\n",
       "      <td>0.0</td>\n",
       "      <td>0</td>\n",
       "      <td>0</td>\n",
       "      <td>Check-Out</td>\n",
       "      <td>2015-07-01</td>\n",
       "      <td>Ernest Barnes</td>\n",
       "      <td>Ernest.Barnes31@outlook.com</td>\n",
       "      <td>669-792-1661</td>\n",
       "      <td>************4322</td>\n",
       "    </tr>\n",
       "    <tr>\n",
       "      <th>1</th>\n",
       "      <td>Resort Hotel</td>\n",
       "      <td>0</td>\n",
       "      <td>737</td>\n",
       "      <td>2015</td>\n",
       "      <td>July</td>\n",
       "      <td>27</td>\n",
       "      <td>1</td>\n",
       "      <td>0</td>\n",
       "      <td>0</td>\n",
       "      <td>2</td>\n",
       "      <td>...</td>\n",
       "      <td>Transient</td>\n",
       "      <td>0.0</td>\n",
       "      <td>0</td>\n",
       "      <td>0</td>\n",
       "      <td>Check-Out</td>\n",
       "      <td>2015-07-01</td>\n",
       "      <td>Andrea Baker</td>\n",
       "      <td>Andrea_Baker94@aol.com</td>\n",
       "      <td>858-637-6955</td>\n",
       "      <td>************9157</td>\n",
       "    </tr>\n",
       "    <tr>\n",
       "      <th>2</th>\n",
       "      <td>Resort Hotel</td>\n",
       "      <td>0</td>\n",
       "      <td>7</td>\n",
       "      <td>2015</td>\n",
       "      <td>July</td>\n",
       "      <td>27</td>\n",
       "      <td>1</td>\n",
       "      <td>0</td>\n",
       "      <td>1</td>\n",
       "      <td>1</td>\n",
       "      <td>...</td>\n",
       "      <td>Transient</td>\n",
       "      <td>75.0</td>\n",
       "      <td>0</td>\n",
       "      <td>0</td>\n",
       "      <td>Check-Out</td>\n",
       "      <td>2015-07-02</td>\n",
       "      <td>Rebecca Parker</td>\n",
       "      <td>Rebecca_Parker@comcast.net</td>\n",
       "      <td>652-885-2745</td>\n",
       "      <td>************3734</td>\n",
       "    </tr>\n",
       "    <tr>\n",
       "      <th>3</th>\n",
       "      <td>Resort Hotel</td>\n",
       "      <td>0</td>\n",
       "      <td>13</td>\n",
       "      <td>2015</td>\n",
       "      <td>July</td>\n",
       "      <td>27</td>\n",
       "      <td>1</td>\n",
       "      <td>0</td>\n",
       "      <td>1</td>\n",
       "      <td>1</td>\n",
       "      <td>...</td>\n",
       "      <td>Transient</td>\n",
       "      <td>75.0</td>\n",
       "      <td>0</td>\n",
       "      <td>0</td>\n",
       "      <td>Check-Out</td>\n",
       "      <td>2015-07-02</td>\n",
       "      <td>Laura Murray</td>\n",
       "      <td>Laura_M@gmail.com</td>\n",
       "      <td>364-656-8427</td>\n",
       "      <td>************5677</td>\n",
       "    </tr>\n",
       "    <tr>\n",
       "      <th>4</th>\n",
       "      <td>Resort Hotel</td>\n",
       "      <td>0</td>\n",
       "      <td>14</td>\n",
       "      <td>2015</td>\n",
       "      <td>July</td>\n",
       "      <td>27</td>\n",
       "      <td>1</td>\n",
       "      <td>0</td>\n",
       "      <td>2</td>\n",
       "      <td>2</td>\n",
       "      <td>...</td>\n",
       "      <td>Transient</td>\n",
       "      <td>98.0</td>\n",
       "      <td>0</td>\n",
       "      <td>1</td>\n",
       "      <td>Check-Out</td>\n",
       "      <td>2015-07-03</td>\n",
       "      <td>Linda Hines</td>\n",
       "      <td>LHines@verizon.com</td>\n",
       "      <td>713-226-5883</td>\n",
       "      <td>************5498</td>\n",
       "    </tr>\n",
       "  </tbody>\n",
       "</table>\n",
       "<p>5 rows × 36 columns</p>\n",
       "</div>"
      ],
      "text/plain": [
       "          hotel  is_canceled  lead_time  arrival_date_year arrival_date_month  \\\n",
       "0  Resort Hotel            0        342               2015               July   \n",
       "1  Resort Hotel            0        737               2015               July   \n",
       "2  Resort Hotel            0          7               2015               July   \n",
       "3  Resort Hotel            0         13               2015               July   \n",
       "4  Resort Hotel            0         14               2015               July   \n",
       "\n",
       "   arrival_date_week_number  arrival_date_day_of_month  \\\n",
       "0                        27                          1   \n",
       "1                        27                          1   \n",
       "2                        27                          1   \n",
       "3                        27                          1   \n",
       "4                        27                          1   \n",
       "\n",
       "   stays_in_weekend_nights  stays_in_week_nights  adults  ...  customer_type  \\\n",
       "0                        0                     0       2  ...      Transient   \n",
       "1                        0                     0       2  ...      Transient   \n",
       "2                        0                     1       1  ...      Transient   \n",
       "3                        0                     1       1  ...      Transient   \n",
       "4                        0                     2       2  ...      Transient   \n",
       "\n",
       "    adr required_car_parking_spaces total_of_special_requests  \\\n",
       "0   0.0                           0                         0   \n",
       "1   0.0                           0                         0   \n",
       "2  75.0                           0                         0   \n",
       "3  75.0                           0                         0   \n",
       "4  98.0                           0                         1   \n",
       "\n",
       "  reservation_status reservation_status_date            name  \\\n",
       "0          Check-Out              2015-07-01   Ernest Barnes   \n",
       "1          Check-Out              2015-07-01    Andrea Baker   \n",
       "2          Check-Out              2015-07-02  Rebecca Parker   \n",
       "3          Check-Out              2015-07-02    Laura Murray   \n",
       "4          Check-Out              2015-07-03     Linda Hines   \n",
       "\n",
       "                         email  phone-number       credit_card  \n",
       "0  Ernest.Barnes31@outlook.com  669-792-1661  ************4322  \n",
       "1       Andrea_Baker94@aol.com  858-637-6955  ************9157  \n",
       "2   Rebecca_Parker@comcast.net  652-885-2745  ************3734  \n",
       "3            Laura_M@gmail.com  364-656-8427  ************5677  \n",
       "4           LHines@verizon.com  713-226-5883  ************5498  \n",
       "\n",
       "[5 rows x 36 columns]"
      ]
     },
     "execution_count": 3,
     "metadata": {},
     "output_type": "execute_result"
    }
   ],
   "source": [
    "hotel_booking.head()"
   ]
  },
  {
   "cell_type": "code",
   "execution_count": 4,
   "id": "76cd57d7",
   "metadata": {},
   "outputs": [
    {
     "data": {
      "text/plain": [
       "Index(['hotel', 'is_canceled', 'lead_time', 'arrival_date_year',\n",
       "       'arrival_date_month', 'arrival_date_week_number',\n",
       "       'arrival_date_day_of_month', 'stays_in_weekend_nights',\n",
       "       'stays_in_week_nights', 'adults', 'children', 'babies', 'meal',\n",
       "       'country', 'market_segment', 'distribution_channel',\n",
       "       'is_repeated_guest', 'previous_cancellations',\n",
       "       'previous_bookings_not_canceled', 'reserved_room_type',\n",
       "       'assigned_room_type', 'booking_changes', 'deposit_type', 'agent',\n",
       "       'company', 'days_in_waiting_list', 'customer_type', 'adr',\n",
       "       'required_car_parking_spaces', 'total_of_special_requests',\n",
       "       'reservation_status', 'reservation_status_date', 'name', 'email',\n",
       "       'phone-number', 'credit_card'],\n",
       "      dtype='object')"
      ]
     },
     "execution_count": 4,
     "metadata": {},
     "output_type": "execute_result"
    }
   ],
   "source": [
    "hotel_booking.columns"
   ]
  },
  {
   "cell_type": "code",
   "execution_count": 5,
   "id": "1922be71",
   "metadata": {},
   "outputs": [
    {
     "data": {
      "text/plain": [
       "(119390, 36)"
      ]
     },
     "execution_count": 5,
     "metadata": {},
     "output_type": "execute_result"
    }
   ],
   "source": [
    "hotel_booking.shape"
   ]
  },
  {
   "cell_type": "code",
   "execution_count": 6,
   "id": "9fa96522",
   "metadata": {},
   "outputs": [],
   "source": [
    "hotel_booking = hotel_booking[hotel_booking.arrival_date_year > 2016]"
   ]
  },
  {
   "cell_type": "code",
   "execution_count": 7,
   "id": "a73856e2",
   "metadata": {},
   "outputs": [
    {
     "data": {
      "text/plain": [
       "(40687, 36)"
      ]
     },
     "execution_count": 7,
     "metadata": {},
     "output_type": "execute_result"
    }
   ],
   "source": [
    "hotel_booking.shape"
   ]
  },
  {
   "cell_type": "code",
   "execution_count": 8,
   "id": "2d78edb9",
   "metadata": {},
   "outputs": [],
   "source": [
    "hotel_booking.drop(columns=['arrival_date_year'], inplace=True)"
   ]
  },
  {
   "cell_type": "code",
   "execution_count": 9,
   "id": "75942704",
   "metadata": {},
   "outputs": [
    {
     "data": {
      "image/png": "[encoded data removed]",
      "text/plain": [
       "<Figure size 1080x720 with 2 Axes>"
      ]
     },
     "metadata": {
      "needs_background": "light"
     },
     "output_type": "display_data"
    }
   ],
   "source": [
    "#correlation matrix\n",
    "plt.figure(figsize = (15,10))\n",
    "sns.heatmap(hotel_booking.corr(),annot=True, fmt ='.0%')\n",
    "plt.title('Correlation Plot')\n",
    "plt.show()"
   ]
  },
  {
   "cell_type": "code",
   "execution_count": 10,
   "id": "bef65d16",
   "metadata": {},
   "outputs": [
    {
     "data": {
      "text/plain": [
       "<AxesSubplot:>"
      ]
     },
     "execution_count": 10,
     "metadata": {},
     "output_type": "execute_result"
    },
    {
     "data": {
      "image/png": "[encoded data removed]",
      "text/plain": [
       "<Figure size 432x288 with 2 Axes>"
      ]
     },
     "metadata": {
      "needs_background": "light"
     },
     "output_type": "display_data"
    }
   ],
   "source": [
    "sns.heatmap(hotel_booking.isna())"
   ]
  },
  {
   "cell_type": "code",
   "execution_count": 11,
   "id": "5d411f53",
   "metadata": {},
   "outputs": [
    {
     "data": {
      "text/plain": [
       "5664"
      ]
     },
     "execution_count": 11,
     "metadata": {},
     "output_type": "execute_result"
    }
   ],
   "source": [
    "hotel_booking['agent'].isnull().sum()"
   ]
  },
  {
   "cell_type": "code",
   "execution_count": 12,
   "id": "912dc490",
   "metadata": {},
   "outputs": [],
   "source": [
    "hotel_booking.drop(columns=['name','email','phone-number','credit_card','company'], inplace=True)"
   ]
  },
  {
   "cell_type": "code",
   "execution_count": 13,
   "id": "343bae5f",
   "metadata": {},
   "outputs": [],
   "source": [
    "hotel_booking.drop(columns=['arrival_date_week_number','arrival_date_day_of_month','reservation_status_date'], inplace=True)"
   ]
  },
  {
   "cell_type": "code",
   "execution_count": 14,
   "id": "f4c7d9fe",
   "metadata": {},
   "outputs": [],
   "source": [
    "hotel_booking.drop(columns=['arrival_date_month','hotel','assigned_room_type','reserved_room_type','agent','adr','reservation_status','country','distribution_channel','meal'], inplace=True)"
   ]
  },
  {
   "cell_type": "code",
   "execution_count": 15,
   "id": "7b6c02a4",
   "metadata": {},
   "outputs": [
    {
     "data": {
      "text/html": [
       "<div>\n",
       "<style scoped>\n",
       "    .dataframe tbody tr th:only-of-type {\n",
       "        vertical-align: middle;\n",
       "    }\n",
       "\n",
       "    .dataframe tbody tr th {\n",
       "        vertical-align: top;\n",
       "    }\n",
       "\n",
       "    .dataframe thead th {\n",
       "        text-align: right;\n",
       "    }\n",
       "</style>\n",
       "<table border=\"1\" class=\"dataframe\">\n",
       "  <thead>\n",
       "    <tr style=\"text-align: right;\">\n",
       "      <th></th>\n",
       "      <th>is_canceled</th>\n",
       "      <th>stays_in_weekend_nights</th>\n",
       "      <th>stays_in_week_nights</th>\n",
       "      <th>adults</th>\n",
       "      <th>children</th>\n",
       "      <th>babies</th>\n",
       "      <th>market_segment</th>\n",
       "      <th>is_repeated_guest</th>\n",
       "      <th>previous_cancellations</th>\n",
       "      <th>previous_bookings_not_canceled</th>\n",
       "      <th>booking_changes</th>\n",
       "      <th>deposit_type</th>\n",
       "      <th>days_in_waiting_list</th>\n",
       "      <th>customer_type</th>\n",
       "      <th>total_of_special_requests</th>\n",
       "    </tr>\n",
       "  </thead>\n",
       "  <tbody>\n",
       "    <tr>\n",
       "      <th>9775</th>\n",
       "      <td>1</td>\n",
       "      <td>1</td>\n",
       "      <td>0</td>\n",
       "      <td>2</td>\n",
       "      <td>0.0</td>\n",
       "      <td>0</td>\n",
       "      <td>Online TA</td>\n",
       "      <td>0</td>\n",
       "      <td>0</td>\n",
       "      <td>0</td>\n",
       "      <td>0</td>\n",
       "      <td>No Deposit</td>\n",
       "      <td>0</td>\n",
       "      <td>Transient</td>\n",
       "      <td>0</td>\n",
       "    </tr>\n",
       "    <tr>\n",
       "      <th>9776</th>\n",
       "      <td>1</td>\n",
       "      <td>2</td>\n",
       "      <td>2</td>\n",
       "      <td>2</td>\n",
       "      <td>0.0</td>\n",
       "      <td>0</td>\n",
       "      <td>Online TA</td>\n",
       "      <td>0</td>\n",
       "      <td>0</td>\n",
       "      <td>0</td>\n",
       "      <td>0</td>\n",
       "      <td>No Deposit</td>\n",
       "      <td>0</td>\n",
       "      <td>Transient</td>\n",
       "      <td>1</td>\n",
       "    </tr>\n",
       "    <tr>\n",
       "      <th>9777</th>\n",
       "      <td>1</td>\n",
       "      <td>2</td>\n",
       "      <td>2</td>\n",
       "      <td>2</td>\n",
       "      <td>0.0</td>\n",
       "      <td>0</td>\n",
       "      <td>Online TA</td>\n",
       "      <td>0</td>\n",
       "      <td>0</td>\n",
       "      <td>0</td>\n",
       "      <td>0</td>\n",
       "      <td>No Deposit</td>\n",
       "      <td>0</td>\n",
       "      <td>Transient</td>\n",
       "      <td>1</td>\n",
       "    </tr>\n",
       "    <tr>\n",
       "      <th>9778</th>\n",
       "      <td>1</td>\n",
       "      <td>2</td>\n",
       "      <td>2</td>\n",
       "      <td>2</td>\n",
       "      <td>0.0</td>\n",
       "      <td>0</td>\n",
       "      <td>Online TA</td>\n",
       "      <td>0</td>\n",
       "      <td>0</td>\n",
       "      <td>0</td>\n",
       "      <td>0</td>\n",
       "      <td>No Deposit</td>\n",
       "      <td>0</td>\n",
       "      <td>Transient</td>\n",
       "      <td>1</td>\n",
       "    </tr>\n",
       "    <tr>\n",
       "      <th>9779</th>\n",
       "      <td>1</td>\n",
       "      <td>2</td>\n",
       "      <td>2</td>\n",
       "      <td>1</td>\n",
       "      <td>0.0</td>\n",
       "      <td>0</td>\n",
       "      <td>Online TA</td>\n",
       "      <td>0</td>\n",
       "      <td>0</td>\n",
       "      <td>0</td>\n",
       "      <td>0</td>\n",
       "      <td>No Deposit</td>\n",
       "      <td>0</td>\n",
       "      <td>Transient</td>\n",
       "      <td>1</td>\n",
       "    </tr>\n",
       "    <tr>\n",
       "      <th>...</th>\n",
       "      <td>...</td>\n",
       "      <td>...</td>\n",
       "      <td>...</td>\n",
       "      <td>...</td>\n",
       "      <td>...</td>\n",
       "      <td>...</td>\n",
       "      <td>...</td>\n",
       "      <td>...</td>\n",
       "      <td>...</td>\n",
       "      <td>...</td>\n",
       "      <td>...</td>\n",
       "      <td>...</td>\n",
       "      <td>...</td>\n",
       "      <td>...</td>\n",
       "      <td>...</td>\n",
       "    </tr>\n",
       "    <tr>\n",
       "      <th>119385</th>\n",
       "      <td>0</td>\n",
       "      <td>2</td>\n",
       "      <td>5</td>\n",
       "      <td>2</td>\n",
       "      <td>0.0</td>\n",
       "      <td>0</td>\n",
       "      <td>Offline TA/TO</td>\n",
       "      <td>0</td>\n",
       "      <td>0</td>\n",
       "      <td>0</td>\n",
       "      <td>0</td>\n",
       "      <td>No Deposit</td>\n",
       "      <td>0</td>\n",
       "      <td>Transient</td>\n",
       "      <td>0</td>\n",
       "    </tr>\n",
       "    <tr>\n",
       "      <th>119386</th>\n",
       "      <td>0</td>\n",
       "      <td>2</td>\n",
       "      <td>5</td>\n",
       "      <td>3</td>\n",
       "      <td>0.0</td>\n",
       "      <td>0</td>\n",
       "      <td>Online TA</td>\n",
       "      <td>0</td>\n",
       "      <td>0</td>\n",
       "      <td>0</td>\n",
       "      <td>0</td>\n",
       "      <td>No Deposit</td>\n",
       "      <td>0</td>\n",
       "      <td>Transient</td>\n",
       "      <td>2</td>\n",
       "    </tr>\n",
       "    <tr>\n",
       "      <th>119387</th>\n",
       "      <td>0</td>\n",
       "      <td>2</td>\n",
       "      <td>5</td>\n",
       "      <td>2</td>\n",
       "      <td>0.0</td>\n",
       "      <td>0</td>\n",
       "      <td>Online TA</td>\n",
       "      <td>0</td>\n",
       "      <td>0</td>\n",
       "      <td>0</td>\n",
       "      <td>0</td>\n",
       "      <td>No Deposit</td>\n",
       "      <td>0</td>\n",
       "      <td>Transient</td>\n",
       "      <td>4</td>\n",
       "    </tr>\n",
       "    <tr>\n",
       "      <th>119388</th>\n",
       "      <td>0</td>\n",
       "      <td>2</td>\n",
       "      <td>5</td>\n",
       "      <td>2</td>\n",
       "      <td>0.0</td>\n",
       "      <td>0</td>\n",
       "      <td>Online TA</td>\n",
       "      <td>0</td>\n",
       "      <td>0</td>\n",
       "      <td>0</td>\n",
       "      <td>0</td>\n",
       "      <td>No Deposit</td>\n",
       "      <td>0</td>\n",
       "      <td>Transient</td>\n",
       "      <td>0</td>\n",
       "    </tr>\n",
       "    <tr>\n",
       "      <th>119389</th>\n",
       "      <td>0</td>\n",
       "      <td>2</td>\n",
       "      <td>7</td>\n",
       "      <td>2</td>\n",
       "      <td>0.0</td>\n",
       "      <td>0</td>\n",
       "      <td>Online TA</td>\n",
       "      <td>0</td>\n",
       "      <td>0</td>\n",
       "      <td>0</td>\n",
       "      <td>0</td>\n",
       "      <td>No Deposit</td>\n",
       "      <td>0</td>\n",
       "      <td>Transient</td>\n",
       "      <td>2</td>\n",
       "    </tr>\n",
       "  </tbody>\n",
       "</table>\n",
       "<p>40687 rows × 15 columns</p>\n",
       "</div>"
      ],
      "text/plain": [
       "        is_canceled  stays_in_weekend_nights  stays_in_week_nights  adults  \\\n",
       "9775              1                        1                     0       2   \n",
       "9776              1                        2                     2       2   \n",
       "9777              1                        2                     2       2   \n",
       "9778              1                        2                     2       2   \n",
       "9779              1                        2                     2       1   \n",
       "...             ...                      ...                   ...     ...   \n",
       "119385            0                        2                     5       2   \n",
       "119386            0                        2                     5       3   \n",
       "119387            0                        2                     5       2   \n",
       "119388            0                        2                     5       2   \n",
       "119389            0                        2                     7       2   \n",
       "\n",
       "        children  babies market_segment  is_repeated_guest  \\\n",
       "9775         0.0       0      Online TA                  0   \n",
       "9776         0.0       0      Online TA                  0   \n",
       "9777         0.0       0      Online TA                  0   \n",
       "9778         0.0       0      Online TA                  0   \n",
       "9779         0.0       0      Online TA                  0   \n",
       "...          ...     ...            ...                ...   \n",
       "119385       0.0       0  Offline TA/TO                  0   \n",
       "119386       0.0       0      Online TA                  0   \n",
       "119387       0.0       0      Online TA                  0   \n",
       "119388       0.0       0      Online TA                  0   \n",
       "119389       0.0       0      Online TA                  0   \n",
       "\n",
       "        previous_cancellations  previous_bookings_not_canceled  \\\n",
       "9775                         0                               0   \n",
       "9776                         0                               0   \n",
       "9777                         0                               0   \n",
       "9778                         0                               0   \n",
       "9779                         0                               0   \n",
       "...                        ...                             ...   \n",
       "119385                       0                               0   \n",
       "119386                       0                               0   \n",
       "119387                       0                               0   \n",
       "119388                       0                               0   \n",
       "119389                       0                               0   \n",
       "\n",
       "        booking_changes deposit_type  days_in_waiting_list customer_type  \\\n",
       "9775                  0   No Deposit                     0     Transient   \n",
       "9776                  0   No Deposit                     0     Transient   \n",
       "9777                  0   No Deposit                     0     Transient   \n",
       "9778                  0   No Deposit                     0     Transient   \n",
       "9779                  0   No Deposit                     0     Transient   \n",
       "...                 ...          ...                   ...           ...   \n",
       "119385                0   No Deposit                     0     Transient   \n",
       "119386                0   No Deposit                     0     Transient   \n",
       "119387                0   No Deposit                     0     Transient   \n",
       "119388                0   No Deposit                     0     Transient   \n",
       "119389                0   No Deposit                     0     Transient   \n",
       "\n",
       "        total_of_special_requests  \n",
       "9775                            0  \n",
       "9776                            1  \n",
       "9777                            1  \n",
       "9778                            1  \n",
       "9779                            1  \n",
       "...                           ...  \n",
       "119385                          0  \n",
       "119386                          2  \n",
       "119387                          4  \n",
       "119388                          0  \n",
       "119389                          2  \n",
       "\n",
       "[40687 rows x 15 columns]"
      ]
     },
     "execution_count": 15,
     "metadata": {},
     "output_type": "execute_result"
    }
   ],
   "source": [
    "hotel_booking.drop(['required_car_parking_spaces','lead_time'], axis = 1)"
   ]
  },
  {
   "cell_type": "markdown",
   "id": "6a2c6b9e",
   "metadata": {},
   "source": [
    "## 5 data visualizations"
   ]
  },
  {
   "cell_type": "code",
   "execution_count": 16,
   "id": "60cad77d",
   "metadata": {},
   "outputs": [
    {
     "data": {
      "image/png": "[encoded data removed]",
      "text/plain": [
       "<Figure size 1080x720 with 2 Axes>"
      ]
     },
     "metadata": {
      "needs_background": "light"
     },
     "output_type": "display_data"
    }
   ],
   "source": [
    "#correlation matrix\n",
    "plt.figure(figsize = (15,10))\n",
    "sns.heatmap(hotel_booking.corr(),annot=True, fmt ='.0%')\n",
    "plt.title('Correlation Plot')\n",
    "plt.show()"
   ]
  },
  {
   "cell_type": "code",
   "execution_count": 17,
   "id": "f1e020ff",
   "metadata": {},
   "outputs": [
    {
     "data": {
      "text/plain": [
       "<AxesSubplot:>"
      ]
     },
     "execution_count": 17,
     "metadata": {},
     "output_type": "execute_result"
    },
    {
     "data": {
      "image/png": "[encoded data removed]",
      "text/plain": [
       "<Figure size 432x288 with 2 Axes>"
      ]
     },
     "metadata": {
      "needs_background": "light"
     },
     "output_type": "display_data"
    }
   ],
   "source": [
    "sns.heatmap(hotel_booking.isna())"
   ]
  },
  {
   "cell_type": "code",
   "execution_count": 18,
   "id": "98b514b2",
   "metadata": {},
   "outputs": [
    {
     "data": {
      "image/png": "[encoded data removed]",
      "text/plain": [
       "<Figure size 504x720 with 1 Axes>"
      ]
     },
     "metadata": {},
     "output_type": "display_data"
    }
   ],
   "source": [
    "#Plotting the distribution of the CUSTOMER TYPES\n",
    "colors=['#29918a','#fc9003',\"#1a8ca1\",'#609c0b']\n",
    "data = hotel_booking.customer_type.value_counts()\n",
    "count  = hotel_booking['customer_type'].value_counts()\n",
    "plt.figure(figsize=(7,10))\n",
    "data.plot.pie( title = 'Pie Chart Customer Type Distribution',colors=colors)\n",
    "plt.show()"
   ]
  },
  {
   "cell_type": "code",
   "execution_count": 19,
   "id": "4d3a9006",
   "metadata": {},
   "outputs": [
    {
     "data": {
      "text/plain": [
       "<AxesSubplot:xlabel='is_canceled', ylabel='count'>"
      ]
     },
     "execution_count": 19,
     "metadata": {},
     "output_type": "execute_result"
    },
    {
     "data": {
      "image/png": "[encoded data removed]",
      "text/plain": [
       "<Figure size 432x288 with 1 Axes>"
      ]
     },
     "metadata": {
      "needs_background": "light"
     },
     "output_type": "display_data"
    }
   ],
   "source": [
    "#see the number of cancellation\n",
    "sns.countplot(x='is_canceled', data = hotel_booking)"
   ]
  },
  {
   "cell_type": "code",
   "execution_count": 20,
   "id": "ff075897",
   "metadata": {},
   "outputs": [
    {
     "data": {
      "text/plain": [
       "<AxesSubplot:xlabel='is_repeated_guest', ylabel='count'>"
      ]
     },
     "execution_count": 20,
     "metadata": {},
     "output_type": "execute_result"
    },
    {
     "data": {
      "image/png": "[encoded data removed]",
      "text/plain": [
       "<Figure size 432x288 with 1 Axes>"
      ]
     },
     "metadata": {
      "needs_background": "light"
     },
     "output_type": "display_data"
    }
   ],
   "source": [
    "#see the number of repeat customers\n",
    "sns.countplot(x='is_repeated_guest', data = hotel_booking)"
   ]
  },
  {
   "cell_type": "code",
   "execution_count": 96,
   "id": "bfc22a57",
   "metadata": {},
   "outputs": [
    {
     "ename": "KeyError",
     "evalue": "'market_segment'",
     "output_type": "error",
     "traceback": [
      "\u001b[0;31m---------------------------------------------------------------------------\u001b[0m",
      "\u001b[0;31mKeyError\u001b[0m                                  Traceback (most recent call last)",
      "\u001b[0;32m/opt/anaconda3/lib/python3.9/site-packages/pandas/core/indexes/base.py\u001b[0m in \u001b[0;36mget_loc\u001b[0;34m(self, key, method, tolerance)\u001b[0m\n\u001b[1;32m   3360\u001b[0m             \u001b[0;32mtry\u001b[0m\u001b[0;34m:\u001b[0m\u001b[0;34m\u001b[0m\u001b[0;34m\u001b[0m\u001b[0m\n\u001b[0;32m-> 3361\u001b[0;31m                 \u001b[0;32mreturn\u001b[0m \u001b[0mself\u001b[0m\u001b[0;34m.\u001b[0m\u001b[0m_engine\u001b[0m\u001b[0;34m.\u001b[0m\u001b[0mget_loc\u001b[0m\u001b[0;34m(\u001b[0m\u001b[0mcasted_key\u001b[0m\u001b[0;34m)\u001b[0m\u001b[0;34m\u001b[0m\u001b[0;34m\u001b[0m\u001b[0m\n\u001b[0m\u001b[1;32m   3362\u001b[0m             \u001b[0;32mexcept\u001b[0m \u001b[0mKeyError\u001b[0m \u001b[0;32mas\u001b[0m \u001b[0merr\u001b[0m\u001b[0;34m:\u001b[0m\u001b[0;34m\u001b[0m\u001b[0;34m\u001b[0m\u001b[0m\n",
      "\u001b[0;32m/opt/anaconda3/lib/python3.9/site-packages/pandas/_libs/index.pyx\u001b[0m in \u001b[0;36mpandas._libs.index.IndexEngine.get_loc\u001b[0;34m()\u001b[0m\n",
      "\u001b[0;32m/opt/anaconda3/lib/python3.9/site-packages/pandas/_libs/index.pyx\u001b[0m in \u001b[0;36mpandas._libs.index.IndexEngine.get_loc\u001b[0;34m()\u001b[0m\n",
      "\u001b[0;32mpandas/_libs/hashtable_class_helper.pxi\u001b[0m in \u001b[0;36mpandas._libs.hashtable.PyObjectHashTable.get_item\u001b[0;34m()\u001b[0m\n",
      "\u001b[0;32mpandas/_libs/hashtable_class_helper.pxi\u001b[0m in \u001b[0;36mpandas._libs.hashtable.PyObjectHashTable.get_item\u001b[0;34m()\u001b[0m\n",
      "\u001b[0;31mKeyError\u001b[0m: 'market_segment'",
      "\nThe above exception was the direct cause of the following exception:\n",
      "\u001b[0;31mKeyError\u001b[0m                                  Traceback (most recent call last)",
      "\u001b[0;32m/var/folders/v7/dj79t1z11z18dvd5cdfvrcvw0000gn/T/ipykernel_66744/2447656539.py\u001b[0m in \u001b[0;36m<module>\u001b[0;34m\u001b[0m\n\u001b[1;32m      1\u001b[0m \u001b[0;31m#Plotting the distribution of the market_segment\u001b[0m\u001b[0;34m\u001b[0m\u001b[0;34m\u001b[0m\u001b[0m\n\u001b[0;32m----> 2\u001b[0;31m \u001b[0mmarket_segment_count\u001b[0m  \u001b[0;34m=\u001b[0m \u001b[0mhotel_booking\u001b[0m\u001b[0;34m[\u001b[0m\u001b[0;34m'market_segment'\u001b[0m\u001b[0;34m]\u001b[0m\u001b[0;34m.\u001b[0m\u001b[0mvalue_counts\u001b[0m\u001b[0;34m(\u001b[0m\u001b[0;34m)\u001b[0m\u001b[0;34m\u001b[0m\u001b[0;34m\u001b[0m\u001b[0m\n\u001b[0m\u001b[1;32m      3\u001b[0m \u001b[0mplt\u001b[0m\u001b[0;34m.\u001b[0m\u001b[0mfigure\u001b[0m\u001b[0;34m(\u001b[0m\u001b[0mfigsize\u001b[0m\u001b[0;34m=\u001b[0m\u001b[0;34m(\u001b[0m\u001b[0;36m10\u001b[0m\u001b[0;34m,\u001b[0m\u001b[0;36m5\u001b[0m\u001b[0;34m)\u001b[0m\u001b[0;34m)\u001b[0m\u001b[0;34m\u001b[0m\u001b[0;34m\u001b[0m\u001b[0m\n\u001b[1;32m      4\u001b[0m \u001b[0msns\u001b[0m\u001b[0;34m.\u001b[0m\u001b[0mbarplot\u001b[0m\u001b[0;34m(\u001b[0m\u001b[0mx\u001b[0m\u001b[0;34m=\u001b[0m \u001b[0mmarket_segment_count\u001b[0m\u001b[0;34m.\u001b[0m\u001b[0mvalues\u001b[0m\u001b[0;34m,\u001b[0m \u001b[0my\u001b[0m \u001b[0;34m=\u001b[0m \u001b[0mmarket_segment_count\u001b[0m\u001b[0;34m.\u001b[0m\u001b[0mindex\u001b[0m\u001b[0;34m,\u001b[0m\u001b[0malpha\u001b[0m\u001b[0;34m=\u001b[0m\u001b[0;36m1\u001b[0m\u001b[0;34m,\u001b[0m \u001b[0morient\u001b[0m \u001b[0;34m=\u001b[0m \u001b[0;34m'h'\u001b[0m\u001b[0;34m,\u001b[0m\u001b[0mpalette\u001b[0m\u001b[0;34m=\u001b[0m\u001b[0;34m'Paired'\u001b[0m\u001b[0;34m)\u001b[0m\u001b[0;34m\u001b[0m\u001b[0;34m\u001b[0m\u001b[0m\n\u001b[1;32m      5\u001b[0m \u001b[0mplt\u001b[0m\u001b[0;34m.\u001b[0m\u001b[0mtitle\u001b[0m\u001b[0;34m(\u001b[0m\u001b[0;34m'Distribution of Market Segment in the Dataset '\u001b[0m\u001b[0;34m)\u001b[0m\u001b[0;34m\u001b[0m\u001b[0;34m\u001b[0m\u001b[0m\n",
      "\u001b[0;32m/opt/anaconda3/lib/python3.9/site-packages/pandas/core/frame.py\u001b[0m in \u001b[0;36m__getitem__\u001b[0;34m(self, key)\u001b[0m\n\u001b[1;32m   3456\u001b[0m             \u001b[0;32mif\u001b[0m \u001b[0mself\u001b[0m\u001b[0;34m.\u001b[0m\u001b[0mcolumns\u001b[0m\u001b[0;34m.\u001b[0m\u001b[0mnlevels\u001b[0m \u001b[0;34m>\u001b[0m \u001b[0;36m1\u001b[0m\u001b[0;34m:\u001b[0m\u001b[0;34m\u001b[0m\u001b[0;34m\u001b[0m\u001b[0m\n\u001b[1;32m   3457\u001b[0m                 \u001b[0;32mreturn\u001b[0m \u001b[0mself\u001b[0m\u001b[0;34m.\u001b[0m\u001b[0m_getitem_multilevel\u001b[0m\u001b[0;34m(\u001b[0m\u001b[0mkey\u001b[0m\u001b[0;34m)\u001b[0m\u001b[0;34m\u001b[0m\u001b[0;34m\u001b[0m\u001b[0m\n\u001b[0;32m-> 3458\u001b[0;31m             \u001b[0mindexer\u001b[0m \u001b[0;34m=\u001b[0m \u001b[0mself\u001b[0m\u001b[0;34m.\u001b[0m\u001b[0mcolumns\u001b[0m\u001b[0;34m.\u001b[0m\u001b[0mget_loc\u001b[0m\u001b[0;34m(\u001b[0m\u001b[0mkey\u001b[0m\u001b[0;34m)\u001b[0m\u001b[0;34m\u001b[0m\u001b[0;34m\u001b[0m\u001b[0m\n\u001b[0m\u001b[1;32m   3459\u001b[0m             \u001b[0;32mif\u001b[0m \u001b[0mis_integer\u001b[0m\u001b[0;34m(\u001b[0m\u001b[0mindexer\u001b[0m\u001b[0;34m)\u001b[0m\u001b[0;34m:\u001b[0m\u001b[0;34m\u001b[0m\u001b[0;34m\u001b[0m\u001b[0m\n\u001b[1;32m   3460\u001b[0m                 \u001b[0mindexer\u001b[0m \u001b[0;34m=\u001b[0m \u001b[0;34m[\u001b[0m\u001b[0mindexer\u001b[0m\u001b[0;34m]\u001b[0m\u001b[0;34m\u001b[0m\u001b[0;34m\u001b[0m\u001b[0m\n",
      "\u001b[0;32m/opt/anaconda3/lib/python3.9/site-packages/pandas/core/indexes/base.py\u001b[0m in \u001b[0;36mget_loc\u001b[0;34m(self, key, method, tolerance)\u001b[0m\n\u001b[1;32m   3361\u001b[0m                 \u001b[0;32mreturn\u001b[0m \u001b[0mself\u001b[0m\u001b[0;34m.\u001b[0m\u001b[0m_engine\u001b[0m\u001b[0;34m.\u001b[0m\u001b[0mget_loc\u001b[0m\u001b[0;34m(\u001b[0m\u001b[0mcasted_key\u001b[0m\u001b[0;34m)\u001b[0m\u001b[0;34m\u001b[0m\u001b[0;34m\u001b[0m\u001b[0m\n\u001b[1;32m   3362\u001b[0m             \u001b[0;32mexcept\u001b[0m \u001b[0mKeyError\u001b[0m \u001b[0;32mas\u001b[0m \u001b[0merr\u001b[0m\u001b[0;34m:\u001b[0m\u001b[0;34m\u001b[0m\u001b[0;34m\u001b[0m\u001b[0m\n\u001b[0;32m-> 3363\u001b[0;31m                 \u001b[0;32mraise\u001b[0m \u001b[0mKeyError\u001b[0m\u001b[0;34m(\u001b[0m\u001b[0mkey\u001b[0m\u001b[0;34m)\u001b[0m \u001b[0;32mfrom\u001b[0m \u001b[0merr\u001b[0m\u001b[0;34m\u001b[0m\u001b[0;34m\u001b[0m\u001b[0m\n\u001b[0m\u001b[1;32m   3364\u001b[0m \u001b[0;34m\u001b[0m\u001b[0m\n\u001b[1;32m   3365\u001b[0m         \u001b[0;32mif\u001b[0m \u001b[0mis_scalar\u001b[0m\u001b[0;34m(\u001b[0m\u001b[0mkey\u001b[0m\u001b[0;34m)\u001b[0m \u001b[0;32mand\u001b[0m \u001b[0misna\u001b[0m\u001b[0;34m(\u001b[0m\u001b[0mkey\u001b[0m\u001b[0;34m)\u001b[0m \u001b[0;32mand\u001b[0m \u001b[0;32mnot\u001b[0m \u001b[0mself\u001b[0m\u001b[0;34m.\u001b[0m\u001b[0mhasnans\u001b[0m\u001b[0;34m:\u001b[0m\u001b[0;34m\u001b[0m\u001b[0;34m\u001b[0m\u001b[0m\n",
      "\u001b[0;31mKeyError\u001b[0m: 'market_segment'"
     ]
    }
   ],
   "source": [
    "#Plotting the distribution of the market_segment\n",
    "market_segment_count  = hotel_booking['market_segment'].value_counts()\n",
    "plt.figure(figsize=(10,5))\n",
    "sns.barplot(x= market_segment_count.values, y = market_segment_count.index,alpha=1, orient = 'h',palette='Paired')\n",
    "plt.title('Distribution of Market Segment in the Dataset ')\n",
    "plt.ylabel('Market Segment', fontsize=12)\n",
    "plt.xlabel('No. of Customers', fontsize=12)\n",
    "plt.show()"
   ]
  },
  {
   "cell_type": "markdown",
   "id": "bcbe6240",
   "metadata": {},
   "source": [
    "## Data Clean"
   ]
  },
  {
   "cell_type": "code",
   "execution_count": 22,
   "id": "9d161161",
   "metadata": {},
   "outputs": [
    {
     "data": {
      "text/plain": [
       "(40687, 17)"
      ]
     },
     "execution_count": 22,
     "metadata": {},
     "output_type": "execute_result"
    }
   ],
   "source": [
    "hotel_booking.shape"
   ]
  },
  {
   "cell_type": "code",
   "execution_count": 23,
   "id": "020a2295",
   "metadata": {},
   "outputs": [
    {
     "name": "stdout",
     "output_type": "stream",
     "text": [
      "<class 'pandas.core.frame.DataFrame'>\n",
      "Int64Index: 40687 entries, 9775 to 119389\n",
      "Data columns (total 17 columns):\n",
      " #   Column                          Non-Null Count  Dtype  \n",
      "---  ------                          --------------  -----  \n",
      " 0   is_canceled                     40687 non-null  int64  \n",
      " 1   lead_time                       40687 non-null  int64  \n",
      " 2   stays_in_weekend_nights         40687 non-null  int64  \n",
      " 3   stays_in_week_nights            40687 non-null  int64  \n",
      " 4   adults                          40687 non-null  int64  \n",
      " 5   children                        40687 non-null  float64\n",
      " 6   babies                          40687 non-null  int64  \n",
      " 7   market_segment                  40687 non-null  object \n",
      " 8   is_repeated_guest               40687 non-null  int64  \n",
      " 9   previous_cancellations          40687 non-null  int64  \n",
      " 10  previous_bookings_not_canceled  40687 non-null  int64  \n",
      " 11  booking_changes                 40687 non-null  int64  \n",
      " 12  deposit_type                    40687 non-null  object \n",
      " 13  days_in_waiting_list            40687 non-null  int64  \n",
      " 14  customer_type                   40687 non-null  object \n",
      " 15  required_car_parking_spaces     40687 non-null  int64  \n",
      " 16  total_of_special_requests       40687 non-null  int64  \n",
      "dtypes: float64(1), int64(13), object(3)\n",
      "memory usage: 6.6+ MB\n"
     ]
    }
   ],
   "source": [
    "hotel_booking.info()"
   ]
  },
  {
   "cell_type": "code",
   "execution_count": 24,
   "id": "82c46bf3",
   "metadata": {},
   "outputs": [
    {
     "data": {
      "text/html": [
       "<div>\n",
       "<style scoped>\n",
       "    .dataframe tbody tr th:only-of-type {\n",
       "        vertical-align: middle;\n",
       "    }\n",
       "\n",
       "    .dataframe tbody tr th {\n",
       "        vertical-align: top;\n",
       "    }\n",
       "\n",
       "    .dataframe thead th {\n",
       "        text-align: right;\n",
       "    }\n",
       "</style>\n",
       "<table border=\"1\" class=\"dataframe\">\n",
       "  <thead>\n",
       "    <tr style=\"text-align: right;\">\n",
       "      <th></th>\n",
       "      <th>is_canceled</th>\n",
       "      <th>lead_time</th>\n",
       "      <th>stays_in_weekend_nights</th>\n",
       "      <th>stays_in_week_nights</th>\n",
       "      <th>adults</th>\n",
       "      <th>children</th>\n",
       "      <th>babies</th>\n",
       "      <th>is_repeated_guest</th>\n",
       "      <th>previous_cancellations</th>\n",
       "      <th>previous_bookings_not_canceled</th>\n",
       "      <th>booking_changes</th>\n",
       "      <th>days_in_waiting_list</th>\n",
       "      <th>required_car_parking_spaces</th>\n",
       "      <th>total_of_special_requests</th>\n",
       "    </tr>\n",
       "  </thead>\n",
       "  <tbody>\n",
       "    <tr>\n",
       "      <th>count</th>\n",
       "      <td>40687.000000</td>\n",
       "      <td>40687.000000</td>\n",
       "      <td>40687.000000</td>\n",
       "      <td>40687.000000</td>\n",
       "      <td>40687.000000</td>\n",
       "      <td>40687.000000</td>\n",
       "      <td>40687.000000</td>\n",
       "      <td>40687.000000</td>\n",
       "      <td>40687.000000</td>\n",
       "      <td>40687.000000</td>\n",
       "      <td>40687.000000</td>\n",
       "      <td>40687.000000</td>\n",
       "      <td>40687.000000</td>\n",
       "      <td>40687.000000</td>\n",
       "    </tr>\n",
       "    <tr>\n",
       "      <th>mean</th>\n",
       "      <td>0.386979</td>\n",
       "      <td>109.259223</td>\n",
       "      <td>0.973308</td>\n",
       "      <td>2.601543</td>\n",
       "      <td>1.877995</td>\n",
       "      <td>0.126281</td>\n",
       "      <td>0.006464</td>\n",
       "      <td>0.034188</td>\n",
       "      <td>0.011871</td>\n",
       "      <td>0.171062</td>\n",
       "      <td>0.239438</td>\n",
       "      <td>0.235186</td>\n",
       "      <td>0.054981</td>\n",
       "      <td>0.676506</td>\n",
       "    </tr>\n",
       "    <tr>\n",
       "      <th>std</th>\n",
       "      <td>0.487065</td>\n",
       "      <td>107.940953</td>\n",
       "      <td>1.014337</td>\n",
       "      <td>1.973291</td>\n",
       "      <td>0.496172</td>\n",
       "      <td>0.436139</td>\n",
       "      <td>0.081659</td>\n",
       "      <td>0.181714</td>\n",
       "      <td>0.184520</td>\n",
       "      <td>1.765330</td>\n",
       "      <td>0.683429</td>\n",
       "      <td>4.458834</td>\n",
       "      <td>0.235894</td>\n",
       "      <td>0.846531</td>\n",
       "    </tr>\n",
       "    <tr>\n",
       "      <th>min</th>\n",
       "      <td>0.000000</td>\n",
       "      <td>0.000000</td>\n",
       "      <td>0.000000</td>\n",
       "      <td>0.000000</td>\n",
       "      <td>0.000000</td>\n",
       "      <td>0.000000</td>\n",
       "      <td>0.000000</td>\n",
       "      <td>0.000000</td>\n",
       "      <td>0.000000</td>\n",
       "      <td>0.000000</td>\n",
       "      <td>0.000000</td>\n",
       "      <td>0.000000</td>\n",
       "      <td>0.000000</td>\n",
       "      <td>0.000000</td>\n",
       "    </tr>\n",
       "    <tr>\n",
       "      <th>25%</th>\n",
       "      <td>0.000000</td>\n",
       "      <td>23.000000</td>\n",
       "      <td>0.000000</td>\n",
       "      <td>1.000000</td>\n",
       "      <td>2.000000</td>\n",
       "      <td>0.000000</td>\n",
       "      <td>0.000000</td>\n",
       "      <td>0.000000</td>\n",
       "      <td>0.000000</td>\n",
       "      <td>0.000000</td>\n",
       "      <td>0.000000</td>\n",
       "      <td>0.000000</td>\n",
       "      <td>0.000000</td>\n",
       "      <td>0.000000</td>\n",
       "    </tr>\n",
       "    <tr>\n",
       "      <th>50%</th>\n",
       "      <td>0.000000</td>\n",
       "      <td>80.000000</td>\n",
       "      <td>1.000000</td>\n",
       "      <td>2.000000</td>\n",
       "      <td>2.000000</td>\n",
       "      <td>0.000000</td>\n",
       "      <td>0.000000</td>\n",
       "      <td>0.000000</td>\n",
       "      <td>0.000000</td>\n",
       "      <td>0.000000</td>\n",
       "      <td>0.000000</td>\n",
       "      <td>0.000000</td>\n",
       "      <td>0.000000</td>\n",
       "      <td>0.000000</td>\n",
       "    </tr>\n",
       "    <tr>\n",
       "      <th>75%</th>\n",
       "      <td>1.000000</td>\n",
       "      <td>164.500000</td>\n",
       "      <td>2.000000</td>\n",
       "      <td>3.000000</td>\n",
       "      <td>2.000000</td>\n",
       "      <td>0.000000</td>\n",
       "      <td>0.000000</td>\n",
       "      <td>0.000000</td>\n",
       "      <td>0.000000</td>\n",
       "      <td>0.000000</td>\n",
       "      <td>0.000000</td>\n",
       "      <td>0.000000</td>\n",
       "      <td>0.000000</td>\n",
       "      <td>1.000000</td>\n",
       "    </tr>\n",
       "    <tr>\n",
       "      <th>max</th>\n",
       "      <td>1.000000</td>\n",
       "      <td>629.000000</td>\n",
       "      <td>16.000000</td>\n",
       "      <td>40.000000</td>\n",
       "      <td>4.000000</td>\n",
       "      <td>3.000000</td>\n",
       "      <td>2.000000</td>\n",
       "      <td>1.000000</td>\n",
       "      <td>6.000000</td>\n",
       "      <td>72.000000</td>\n",
       "      <td>18.000000</td>\n",
       "      <td>223.000000</td>\n",
       "      <td>8.000000</td>\n",
       "      <td>5.000000</td>\n",
       "    </tr>\n",
       "  </tbody>\n",
       "</table>\n",
       "</div>"
      ],
      "text/plain": [
       "        is_canceled     lead_time  stays_in_weekend_nights  \\\n",
       "count  40687.000000  40687.000000             40687.000000   \n",
       "mean       0.386979    109.259223                 0.973308   \n",
       "std        0.487065    107.940953                 1.014337   \n",
       "min        0.000000      0.000000                 0.000000   \n",
       "25%        0.000000     23.000000                 0.000000   \n",
       "50%        0.000000     80.000000                 1.000000   \n",
       "75%        1.000000    164.500000                 2.000000   \n",
       "max        1.000000    629.000000                16.000000   \n",
       "\n",
       "       stays_in_week_nights        adults      children        babies  \\\n",
       "count          40687.000000  40687.000000  40687.000000  40687.000000   \n",
       "mean               2.601543      1.877995      0.126281      0.006464   \n",
       "std                1.973291      0.496172      0.436139      0.081659   \n",
       "min                0.000000      0.000000      0.000000      0.000000   \n",
       "25%                1.000000      2.000000      0.000000      0.000000   \n",
       "50%                2.000000      2.000000      0.000000      0.000000   \n",
       "75%                3.000000      2.000000      0.000000      0.000000   \n",
       "max               40.000000      4.000000      3.000000      2.000000   \n",
       "\n",
       "       is_repeated_guest  previous_cancellations  \\\n",
       "count       40687.000000            40687.000000   \n",
       "mean            0.034188                0.011871   \n",
       "std             0.181714                0.184520   \n",
       "min             0.000000                0.000000   \n",
       "25%             0.000000                0.000000   \n",
       "50%             0.000000                0.000000   \n",
       "75%             0.000000                0.000000   \n",
       "max             1.000000                6.000000   \n",
       "\n",
       "       previous_bookings_not_canceled  booking_changes  days_in_waiting_list  \\\n",
       "count                    40687.000000     40687.000000          40687.000000   \n",
       "mean                         0.171062         0.239438              0.235186   \n",
       "std                          1.765330         0.683429              4.458834   \n",
       "min                          0.000000         0.000000              0.000000   \n",
       "25%                          0.000000         0.000000              0.000000   \n",
       "50%                          0.000000         0.000000              0.000000   \n",
       "75%                          0.000000         0.000000              0.000000   \n",
       "max                         72.000000        18.000000            223.000000   \n",
       "\n",
       "       required_car_parking_spaces  total_of_special_requests  \n",
       "count                 40687.000000               40687.000000  \n",
       "mean                      0.054981                   0.676506  \n",
       "std                       0.235894                   0.846531  \n",
       "min                       0.000000                   0.000000  \n",
       "25%                       0.000000                   0.000000  \n",
       "50%                       0.000000                   0.000000  \n",
       "75%                       0.000000                   1.000000  \n",
       "max                       8.000000                   5.000000  "
      ]
     },
     "execution_count": 24,
     "metadata": {},
     "output_type": "execute_result"
    }
   ],
   "source": [
    "hotel_booking.describe()"
   ]
  },
  {
   "cell_type": "code",
   "execution_count": 25,
   "id": "15100ae2",
   "metadata": {
    "scrolled": true
   },
   "outputs": [
    {
     "data": {
      "text/html": [
       "<div>\n",
       "<style scoped>\n",
       "    .dataframe tbody tr th:only-of-type {\n",
       "        vertical-align: middle;\n",
       "    }\n",
       "\n",
       "    .dataframe tbody tr th {\n",
       "        vertical-align: top;\n",
       "    }\n",
       "\n",
       "    .dataframe thead th {\n",
       "        text-align: right;\n",
       "    }\n",
       "</style>\n",
       "<table border=\"1\" class=\"dataframe\">\n",
       "  <thead>\n",
       "    <tr style=\"text-align: right;\">\n",
       "      <th></th>\n",
       "      <th>is_canceled</th>\n",
       "      <th>lead_time</th>\n",
       "      <th>stays_in_weekend_nights</th>\n",
       "      <th>stays_in_week_nights</th>\n",
       "      <th>adults</th>\n",
       "      <th>children</th>\n",
       "      <th>babies</th>\n",
       "      <th>market_segment</th>\n",
       "      <th>is_repeated_guest</th>\n",
       "      <th>previous_cancellations</th>\n",
       "      <th>previous_bookings_not_canceled</th>\n",
       "      <th>booking_changes</th>\n",
       "      <th>deposit_type</th>\n",
       "      <th>days_in_waiting_list</th>\n",
       "      <th>customer_type</th>\n",
       "      <th>required_car_parking_spaces</th>\n",
       "      <th>total_of_special_requests</th>\n",
       "    </tr>\n",
       "  </thead>\n",
       "  <tbody>\n",
       "    <tr>\n",
       "      <th>9775</th>\n",
       "      <td>1</td>\n",
       "      <td>74</td>\n",
       "      <td>1</td>\n",
       "      <td>0</td>\n",
       "      <td>2</td>\n",
       "      <td>0.0</td>\n",
       "      <td>0</td>\n",
       "      <td>Online TA</td>\n",
       "      <td>0</td>\n",
       "      <td>0</td>\n",
       "      <td>0</td>\n",
       "      <td>0</td>\n",
       "      <td>No Deposit</td>\n",
       "      <td>0</td>\n",
       "      <td>Transient</td>\n",
       "      <td>0</td>\n",
       "      <td>0</td>\n",
       "    </tr>\n",
       "    <tr>\n",
       "      <th>9776</th>\n",
       "      <td>1</td>\n",
       "      <td>62</td>\n",
       "      <td>2</td>\n",
       "      <td>2</td>\n",
       "      <td>2</td>\n",
       "      <td>0.0</td>\n",
       "      <td>0</td>\n",
       "      <td>Online TA</td>\n",
       "      <td>0</td>\n",
       "      <td>0</td>\n",
       "      <td>0</td>\n",
       "      <td>0</td>\n",
       "      <td>No Deposit</td>\n",
       "      <td>0</td>\n",
       "      <td>Transient</td>\n",
       "      <td>0</td>\n",
       "      <td>1</td>\n",
       "    </tr>\n",
       "    <tr>\n",
       "      <th>9777</th>\n",
       "      <td>1</td>\n",
       "      <td>62</td>\n",
       "      <td>2</td>\n",
       "      <td>2</td>\n",
       "      <td>2</td>\n",
       "      <td>0.0</td>\n",
       "      <td>0</td>\n",
       "      <td>Online TA</td>\n",
       "      <td>0</td>\n",
       "      <td>0</td>\n",
       "      <td>0</td>\n",
       "      <td>0</td>\n",
       "      <td>No Deposit</td>\n",
       "      <td>0</td>\n",
       "      <td>Transient</td>\n",
       "      <td>0</td>\n",
       "      <td>1</td>\n",
       "    </tr>\n",
       "    <tr>\n",
       "      <th>9778</th>\n",
       "      <td>1</td>\n",
       "      <td>62</td>\n",
       "      <td>2</td>\n",
       "      <td>2</td>\n",
       "      <td>2</td>\n",
       "      <td>0.0</td>\n",
       "      <td>0</td>\n",
       "      <td>Online TA</td>\n",
       "      <td>0</td>\n",
       "      <td>0</td>\n",
       "      <td>0</td>\n",
       "      <td>0</td>\n",
       "      <td>No Deposit</td>\n",
       "      <td>0</td>\n",
       "      <td>Transient</td>\n",
       "      <td>0</td>\n",
       "      <td>1</td>\n",
       "    </tr>\n",
       "    <tr>\n",
       "      <th>9779</th>\n",
       "      <td>1</td>\n",
       "      <td>71</td>\n",
       "      <td>2</td>\n",
       "      <td>2</td>\n",
       "      <td>1</td>\n",
       "      <td>0.0</td>\n",
       "      <td>0</td>\n",
       "      <td>Online TA</td>\n",
       "      <td>0</td>\n",
       "      <td>0</td>\n",
       "      <td>0</td>\n",
       "      <td>0</td>\n",
       "      <td>No Deposit</td>\n",
       "      <td>0</td>\n",
       "      <td>Transient</td>\n",
       "      <td>0</td>\n",
       "      <td>1</td>\n",
       "    </tr>\n",
       "  </tbody>\n",
       "</table>\n",
       "</div>"
      ],
      "text/plain": [
       "      is_canceled  lead_time  stays_in_weekend_nights  stays_in_week_nights  \\\n",
       "9775            1         74                        1                     0   \n",
       "9776            1         62                        2                     2   \n",
       "9777            1         62                        2                     2   \n",
       "9778            1         62                        2                     2   \n",
       "9779            1         71                        2                     2   \n",
       "\n",
       "      adults  children  babies market_segment  is_repeated_guest  \\\n",
       "9775       2       0.0       0      Online TA                  0   \n",
       "9776       2       0.0       0      Online TA                  0   \n",
       "9777       2       0.0       0      Online TA                  0   \n",
       "9778       2       0.0       0      Online TA                  0   \n",
       "9779       1       0.0       0      Online TA                  0   \n",
       "\n",
       "      previous_cancellations  previous_bookings_not_canceled  booking_changes  \\\n",
       "9775                       0                               0                0   \n",
       "9776                       0                               0                0   \n",
       "9777                       0                               0                0   \n",
       "9778                       0                               0                0   \n",
       "9779                       0                               0                0   \n",
       "\n",
       "     deposit_type  days_in_waiting_list customer_type  \\\n",
       "9775   No Deposit                     0     Transient   \n",
       "9776   No Deposit                     0     Transient   \n",
       "9777   No Deposit                     0     Transient   \n",
       "9778   No Deposit                     0     Transient   \n",
       "9779   No Deposit                     0     Transient   \n",
       "\n",
       "      required_car_parking_spaces  total_of_special_requests  \n",
       "9775                            0                          0  \n",
       "9776                            0                          1  \n",
       "9777                            0                          1  \n",
       "9778                            0                          1  \n",
       "9779                            0                          1  "
      ]
     },
     "execution_count": 25,
     "metadata": {},
     "output_type": "execute_result"
    }
   ],
   "source": [
    "hotel_booking.head()"
   ]
  },
  {
   "cell_type": "code",
   "execution_count": 26,
   "id": "f8754eef",
   "metadata": {},
   "outputs": [
    {
     "data": {
      "text/html": [
       "<div>\n",
       "<style scoped>\n",
       "    .dataframe tbody tr th:only-of-type {\n",
       "        vertical-align: middle;\n",
       "    }\n",
       "\n",
       "    .dataframe tbody tr th {\n",
       "        vertical-align: top;\n",
       "    }\n",
       "\n",
       "    .dataframe thead th {\n",
       "        text-align: right;\n",
       "    }\n",
       "</style>\n",
       "<table border=\"1\" class=\"dataframe\">\n",
       "  <thead>\n",
       "    <tr style=\"text-align: right;\">\n",
       "      <th></th>\n",
       "      <th>Aviation</th>\n",
       "      <th>Complementary</th>\n",
       "      <th>Corporate</th>\n",
       "      <th>Direct</th>\n",
       "      <th>Groups</th>\n",
       "      <th>Offline TA/TO</th>\n",
       "      <th>Online TA</th>\n",
       "    </tr>\n",
       "  </thead>\n",
       "  <tbody>\n",
       "    <tr>\n",
       "      <th>9775</th>\n",
       "      <td>0</td>\n",
       "      <td>0</td>\n",
       "      <td>0</td>\n",
       "      <td>0</td>\n",
       "      <td>0</td>\n",
       "      <td>0</td>\n",
       "      <td>1</td>\n",
       "    </tr>\n",
       "    <tr>\n",
       "      <th>9776</th>\n",
       "      <td>0</td>\n",
       "      <td>0</td>\n",
       "      <td>0</td>\n",
       "      <td>0</td>\n",
       "      <td>0</td>\n",
       "      <td>0</td>\n",
       "      <td>1</td>\n",
       "    </tr>\n",
       "    <tr>\n",
       "      <th>9777</th>\n",
       "      <td>0</td>\n",
       "      <td>0</td>\n",
       "      <td>0</td>\n",
       "      <td>0</td>\n",
       "      <td>0</td>\n",
       "      <td>0</td>\n",
       "      <td>1</td>\n",
       "    </tr>\n",
       "    <tr>\n",
       "      <th>9778</th>\n",
       "      <td>0</td>\n",
       "      <td>0</td>\n",
       "      <td>0</td>\n",
       "      <td>0</td>\n",
       "      <td>0</td>\n",
       "      <td>0</td>\n",
       "      <td>1</td>\n",
       "    </tr>\n",
       "    <tr>\n",
       "      <th>9779</th>\n",
       "      <td>0</td>\n",
       "      <td>0</td>\n",
       "      <td>0</td>\n",
       "      <td>0</td>\n",
       "      <td>0</td>\n",
       "      <td>0</td>\n",
       "      <td>1</td>\n",
       "    </tr>\n",
       "  </tbody>\n",
       "</table>\n",
       "</div>"
      ],
      "text/plain": [
       "      Aviation  Complementary  Corporate  Direct  Groups  Offline TA/TO  \\\n",
       "9775         0              0          0       0       0              0   \n",
       "9776         0              0          0       0       0              0   \n",
       "9777         0              0          0       0       0              0   \n",
       "9778         0              0          0       0       0              0   \n",
       "9779         0              0          0       0       0              0   \n",
       "\n",
       "      Online TA  \n",
       "9775          1  \n",
       "9776          1  \n",
       "9777          1  \n",
       "9778          1  \n",
       "9779          1  "
      ]
     },
     "execution_count": 26,
     "metadata": {},
     "output_type": "execute_result"
    }
   ],
   "source": [
    "market_segment_encoded = pd.get_dummies(hotel_booking['market_segment'])\n",
    "market_segment_encoded.head()"
   ]
  },
  {
   "cell_type": "code",
   "execution_count": 27,
   "id": "b9dc4faf",
   "metadata": {},
   "outputs": [
    {
     "data": {
      "text/html": [
       "<div>\n",
       "<style scoped>\n",
       "    .dataframe tbody tr th:only-of-type {\n",
       "        vertical-align: middle;\n",
       "    }\n",
       "\n",
       "    .dataframe tbody tr th {\n",
       "        vertical-align: top;\n",
       "    }\n",
       "\n",
       "    .dataframe thead th {\n",
       "        text-align: right;\n",
       "    }\n",
       "</style>\n",
       "<table border=\"1\" class=\"dataframe\">\n",
       "  <thead>\n",
       "    <tr style=\"text-align: right;\">\n",
       "      <th></th>\n",
       "      <th>No Deposit</th>\n",
       "      <th>Non Refund</th>\n",
       "      <th>Refundable</th>\n",
       "    </tr>\n",
       "  </thead>\n",
       "  <tbody>\n",
       "    <tr>\n",
       "      <th>9775</th>\n",
       "      <td>1</td>\n",
       "      <td>0</td>\n",
       "      <td>0</td>\n",
       "    </tr>\n",
       "    <tr>\n",
       "      <th>9776</th>\n",
       "      <td>1</td>\n",
       "      <td>0</td>\n",
       "      <td>0</td>\n",
       "    </tr>\n",
       "    <tr>\n",
       "      <th>9777</th>\n",
       "      <td>1</td>\n",
       "      <td>0</td>\n",
       "      <td>0</td>\n",
       "    </tr>\n",
       "    <tr>\n",
       "      <th>9778</th>\n",
       "      <td>1</td>\n",
       "      <td>0</td>\n",
       "      <td>0</td>\n",
       "    </tr>\n",
       "    <tr>\n",
       "      <th>9779</th>\n",
       "      <td>1</td>\n",
       "      <td>0</td>\n",
       "      <td>0</td>\n",
       "    </tr>\n",
       "  </tbody>\n",
       "</table>\n",
       "</div>"
      ],
      "text/plain": [
       "      No Deposit  Non Refund  Refundable\n",
       "9775           1           0           0\n",
       "9776           1           0           0\n",
       "9777           1           0           0\n",
       "9778           1           0           0\n",
       "9779           1           0           0"
      ]
     },
     "execution_count": 27,
     "metadata": {},
     "output_type": "execute_result"
    }
   ],
   "source": [
    "deposit_type_encoded = pd.get_dummies(hotel_booking['deposit_type'])\n",
    "deposit_type_encoded.head()"
   ]
  },
  {
   "cell_type": "code",
   "execution_count": 28,
   "id": "85234777",
   "metadata": {},
   "outputs": [
    {
     "data": {
      "text/html": [
       "<div>\n",
       "<style scoped>\n",
       "    .dataframe tbody tr th:only-of-type {\n",
       "        vertical-align: middle;\n",
       "    }\n",
       "\n",
       "    .dataframe tbody tr th {\n",
       "        vertical-align: top;\n",
       "    }\n",
       "\n",
       "    .dataframe thead th {\n",
       "        text-align: right;\n",
       "    }\n",
       "</style>\n",
       "<table border=\"1\" class=\"dataframe\">\n",
       "  <thead>\n",
       "    <tr style=\"text-align: right;\">\n",
       "      <th></th>\n",
       "      <th>Contract</th>\n",
       "      <th>Group</th>\n",
       "      <th>Transient</th>\n",
       "      <th>Transient-Party</th>\n",
       "    </tr>\n",
       "  </thead>\n",
       "  <tbody>\n",
       "    <tr>\n",
       "      <th>9775</th>\n",
       "      <td>0</td>\n",
       "      <td>0</td>\n",
       "      <td>1</td>\n",
       "      <td>0</td>\n",
       "    </tr>\n",
       "    <tr>\n",
       "      <th>9776</th>\n",
       "      <td>0</td>\n",
       "      <td>0</td>\n",
       "      <td>1</td>\n",
       "      <td>0</td>\n",
       "    </tr>\n",
       "    <tr>\n",
       "      <th>9777</th>\n",
       "      <td>0</td>\n",
       "      <td>0</td>\n",
       "      <td>1</td>\n",
       "      <td>0</td>\n",
       "    </tr>\n",
       "    <tr>\n",
       "      <th>9778</th>\n",
       "      <td>0</td>\n",
       "      <td>0</td>\n",
       "      <td>1</td>\n",
       "      <td>0</td>\n",
       "    </tr>\n",
       "    <tr>\n",
       "      <th>9779</th>\n",
       "      <td>0</td>\n",
       "      <td>0</td>\n",
       "      <td>1</td>\n",
       "      <td>0</td>\n",
       "    </tr>\n",
       "  </tbody>\n",
       "</table>\n",
       "</div>"
      ],
      "text/plain": [
       "      Contract  Group  Transient  Transient-Party\n",
       "9775         0      0          1                0\n",
       "9776         0      0          1                0\n",
       "9777         0      0          1                0\n",
       "9778         0      0          1                0\n",
       "9779         0      0          1                0"
      ]
     },
     "execution_count": 28,
     "metadata": {},
     "output_type": "execute_result"
    }
   ],
   "source": [
    "customer_type_encoded = pd.get_dummies(hotel_booking['customer_type'])\n",
    "customer_type_encoded.head()"
   ]
  },
  {
   "cell_type": "code",
   "execution_count": 29,
   "id": "ef52c787",
   "metadata": {},
   "outputs": [],
   "source": [
    "hotel_booking = hotel_booking.drop(['market_segment','deposit_type','customer_type'], axis = 1)"
   ]
  },
  {
   "cell_type": "code",
   "execution_count": 30,
   "id": "d69de7bd",
   "metadata": {},
   "outputs": [],
   "source": [
    "hotel_booking=hotel_booking.join(market_segment_encoded)"
   ]
  },
  {
   "cell_type": "code",
   "execution_count": 31,
   "id": "67a60ef4",
   "metadata": {},
   "outputs": [],
   "source": [
    "hotel_booking=hotel_booking.join(deposit_type_encoded)"
   ]
  },
  {
   "cell_type": "code",
   "execution_count": 32,
   "id": "6cafc8d4",
   "metadata": {},
   "outputs": [],
   "source": [
    "hotel_booking=hotel_booking.join(customer_type_encoded)"
   ]
  },
  {
   "cell_type": "code",
   "execution_count": 33,
   "id": "aec70565",
   "metadata": {},
   "outputs": [
    {
     "data": {
      "text/html": [
       "<div>\n",
       "<style scoped>\n",
       "    .dataframe tbody tr th:only-of-type {\n",
       "        vertical-align: middle;\n",
       "    }\n",
       "\n",
       "    .dataframe tbody tr th {\n",
       "        vertical-align: top;\n",
       "    }\n",
       "\n",
       "    .dataframe thead th {\n",
       "        text-align: right;\n",
       "    }\n",
       "</style>\n",
       "<table border=\"1\" class=\"dataframe\">\n",
       "  <thead>\n",
       "    <tr style=\"text-align: right;\">\n",
       "      <th></th>\n",
       "      <th>is_canceled</th>\n",
       "      <th>lead_time</th>\n",
       "      <th>stays_in_weekend_nights</th>\n",
       "      <th>stays_in_week_nights</th>\n",
       "      <th>adults</th>\n",
       "      <th>children</th>\n",
       "      <th>babies</th>\n",
       "      <th>is_repeated_guest</th>\n",
       "      <th>previous_cancellations</th>\n",
       "      <th>previous_bookings_not_canceled</th>\n",
       "      <th>...</th>\n",
       "      <th>Groups</th>\n",
       "      <th>Offline TA/TO</th>\n",
       "      <th>Online TA</th>\n",
       "      <th>No Deposit</th>\n",
       "      <th>Non Refund</th>\n",
       "      <th>Refundable</th>\n",
       "      <th>Contract</th>\n",
       "      <th>Group</th>\n",
       "      <th>Transient</th>\n",
       "      <th>Transient-Party</th>\n",
       "    </tr>\n",
       "  </thead>\n",
       "  <tbody>\n",
       "    <tr>\n",
       "      <th>9775</th>\n",
       "      <td>1</td>\n",
       "      <td>74</td>\n",
       "      <td>1</td>\n",
       "      <td>0</td>\n",
       "      <td>2</td>\n",
       "      <td>0.0</td>\n",
       "      <td>0</td>\n",
       "      <td>0</td>\n",
       "      <td>0</td>\n",
       "      <td>0</td>\n",
       "      <td>...</td>\n",
       "      <td>0</td>\n",
       "      <td>0</td>\n",
       "      <td>1</td>\n",
       "      <td>1</td>\n",
       "      <td>0</td>\n",
       "      <td>0</td>\n",
       "      <td>0</td>\n",
       "      <td>0</td>\n",
       "      <td>1</td>\n",
       "      <td>0</td>\n",
       "    </tr>\n",
       "    <tr>\n",
       "      <th>9776</th>\n",
       "      <td>1</td>\n",
       "      <td>62</td>\n",
       "      <td>2</td>\n",
       "      <td>2</td>\n",
       "      <td>2</td>\n",
       "      <td>0.0</td>\n",
       "      <td>0</td>\n",
       "      <td>0</td>\n",
       "      <td>0</td>\n",
       "      <td>0</td>\n",
       "      <td>...</td>\n",
       "      <td>0</td>\n",
       "      <td>0</td>\n",
       "      <td>1</td>\n",
       "      <td>1</td>\n",
       "      <td>0</td>\n",
       "      <td>0</td>\n",
       "      <td>0</td>\n",
       "      <td>0</td>\n",
       "      <td>1</td>\n",
       "      <td>0</td>\n",
       "    </tr>\n",
       "    <tr>\n",
       "      <th>9777</th>\n",
       "      <td>1</td>\n",
       "      <td>62</td>\n",
       "      <td>2</td>\n",
       "      <td>2</td>\n",
       "      <td>2</td>\n",
       "      <td>0.0</td>\n",
       "      <td>0</td>\n",
       "      <td>0</td>\n",
       "      <td>0</td>\n",
       "      <td>0</td>\n",
       "      <td>...</td>\n",
       "      <td>0</td>\n",
       "      <td>0</td>\n",
       "      <td>1</td>\n",
       "      <td>1</td>\n",
       "      <td>0</td>\n",
       "      <td>0</td>\n",
       "      <td>0</td>\n",
       "      <td>0</td>\n",
       "      <td>1</td>\n",
       "      <td>0</td>\n",
       "    </tr>\n",
       "    <tr>\n",
       "      <th>9778</th>\n",
       "      <td>1</td>\n",
       "      <td>62</td>\n",
       "      <td>2</td>\n",
       "      <td>2</td>\n",
       "      <td>2</td>\n",
       "      <td>0.0</td>\n",
       "      <td>0</td>\n",
       "      <td>0</td>\n",
       "      <td>0</td>\n",
       "      <td>0</td>\n",
       "      <td>...</td>\n",
       "      <td>0</td>\n",
       "      <td>0</td>\n",
       "      <td>1</td>\n",
       "      <td>1</td>\n",
       "      <td>0</td>\n",
       "      <td>0</td>\n",
       "      <td>0</td>\n",
       "      <td>0</td>\n",
       "      <td>1</td>\n",
       "      <td>0</td>\n",
       "    </tr>\n",
       "    <tr>\n",
       "      <th>9779</th>\n",
       "      <td>1</td>\n",
       "      <td>71</td>\n",
       "      <td>2</td>\n",
       "      <td>2</td>\n",
       "      <td>1</td>\n",
       "      <td>0.0</td>\n",
       "      <td>0</td>\n",
       "      <td>0</td>\n",
       "      <td>0</td>\n",
       "      <td>0</td>\n",
       "      <td>...</td>\n",
       "      <td>0</td>\n",
       "      <td>0</td>\n",
       "      <td>1</td>\n",
       "      <td>1</td>\n",
       "      <td>0</td>\n",
       "      <td>0</td>\n",
       "      <td>0</td>\n",
       "      <td>0</td>\n",
       "      <td>1</td>\n",
       "      <td>0</td>\n",
       "    </tr>\n",
       "  </tbody>\n",
       "</table>\n",
       "<p>5 rows × 28 columns</p>\n",
       "</div>"
      ],
      "text/plain": [
       "      is_canceled  lead_time  stays_in_weekend_nights  stays_in_week_nights  \\\n",
       "9775            1         74                        1                     0   \n",
       "9776            1         62                        2                     2   \n",
       "9777            1         62                        2                     2   \n",
       "9778            1         62                        2                     2   \n",
       "9779            1         71                        2                     2   \n",
       "\n",
       "      adults  children  babies  is_repeated_guest  previous_cancellations  \\\n",
       "9775       2       0.0       0                  0                       0   \n",
       "9776       2       0.0       0                  0                       0   \n",
       "9777       2       0.0       0                  0                       0   \n",
       "9778       2       0.0       0                  0                       0   \n",
       "9779       1       0.0       0                  0                       0   \n",
       "\n",
       "      previous_bookings_not_canceled  ...  Groups  Offline TA/TO  Online TA  \\\n",
       "9775                               0  ...       0              0          1   \n",
       "9776                               0  ...       0              0          1   \n",
       "9777                               0  ...       0              0          1   \n",
       "9778                               0  ...       0              0          1   \n",
       "9779                               0  ...       0              0          1   \n",
       "\n",
       "      No Deposit  Non Refund  Refundable  Contract  Group  Transient  \\\n",
       "9775           1           0           0         0      0          1   \n",
       "9776           1           0           0         0      0          1   \n",
       "9777           1           0           0         0      0          1   \n",
       "9778           1           0           0         0      0          1   \n",
       "9779           1           0           0         0      0          1   \n",
       "\n",
       "      Transient-Party  \n",
       "9775                0  \n",
       "9776                0  \n",
       "9777                0  \n",
       "9778                0  \n",
       "9779                0  \n",
       "\n",
       "[5 rows x 28 columns]"
      ]
     },
     "execution_count": 33,
     "metadata": {},
     "output_type": "execute_result"
    }
   ],
   "source": [
    "hotel_booking.head()"
   ]
  },
  {
   "cell_type": "code",
   "execution_count": 34,
   "id": "99d8c1b2",
   "metadata": {},
   "outputs": [
    {
     "data": {
      "text/plain": [
       "is_canceled                       0\n",
       "lead_time                         0\n",
       "stays_in_weekend_nights           0\n",
       "stays_in_week_nights              0\n",
       "adults                            0\n",
       "children                          0\n",
       "babies                            0\n",
       "is_repeated_guest                 0\n",
       "previous_cancellations            0\n",
       "previous_bookings_not_canceled    0\n",
       "booking_changes                   0\n",
       "days_in_waiting_list              0\n",
       "required_car_parking_spaces       0\n",
       "total_of_special_requests         0\n",
       "Aviation                          0\n",
       "Complementary                     0\n",
       "Corporate                         0\n",
       "Direct                            0\n",
       "Groups                            0\n",
       "Offline TA/TO                     0\n",
       "Online TA                         0\n",
       "No Deposit                        0\n",
       "Non Refund                        0\n",
       "Refundable                        0\n",
       "Contract                          0\n",
       "Group                             0\n",
       "Transient                         0\n",
       "Transient-Party                   0\n",
       "dtype: int64"
      ]
     },
     "execution_count": 34,
     "metadata": {},
     "output_type": "execute_result"
    }
   ],
   "source": [
    "hotel_booking.isna().sum()"
   ]
  },
  {
   "cell_type": "code",
   "execution_count": 35,
   "id": "10fce1ef",
   "metadata": {},
   "outputs": [],
   "source": [
    "hotel_booking.dropna(subset=['children'], inplace=True)"
   ]
  },
  {
   "cell_type": "code",
   "execution_count": 36,
   "id": "339ba796",
   "metadata": {},
   "outputs": [
    {
     "data": {
      "text/plain": [
       "is_canceled                       0\n",
       "lead_time                         0\n",
       "stays_in_weekend_nights           0\n",
       "stays_in_week_nights              0\n",
       "adults                            0\n",
       "children                          0\n",
       "babies                            0\n",
       "is_repeated_guest                 0\n",
       "previous_cancellations            0\n",
       "previous_bookings_not_canceled    0\n",
       "booking_changes                   0\n",
       "days_in_waiting_list              0\n",
       "required_car_parking_spaces       0\n",
       "total_of_special_requests         0\n",
       "Aviation                          0\n",
       "Complementary                     0\n",
       "Corporate                         0\n",
       "Direct                            0\n",
       "Groups                            0\n",
       "Offline TA/TO                     0\n",
       "Online TA                         0\n",
       "No Deposit                        0\n",
       "Non Refund                        0\n",
       "Refundable                        0\n",
       "Contract                          0\n",
       "Group                             0\n",
       "Transient                         0\n",
       "Transient-Party                   0\n",
       "dtype: int64"
      ]
     },
     "execution_count": 36,
     "metadata": {},
     "output_type": "execute_result"
    }
   ],
   "source": [
    "hotel_booking.isna().sum()"
   ]
  },
  {
   "cell_type": "markdown",
   "id": "aa5b6c9d",
   "metadata": {},
   "source": [
    "## Divide data into training and test sets"
   ]
  },
  {
   "cell_type": "code",
   "execution_count": 37,
   "id": "35f519f0",
   "metadata": {},
   "outputs": [],
   "source": [
    "X = hotel_booking.drop(['is_canceled'], axis = 1)\n",
    "y=hotel_booking['is_canceled']"
   ]
  },
  {
   "cell_type": "code",
   "execution_count": 38,
   "id": "b15140f3",
   "metadata": {},
   "outputs": [
    {
     "data": {
      "text/html": [
       "<div>\n",
       "<style scoped>\n",
       "    .dataframe tbody tr th:only-of-type {\n",
       "        vertical-align: middle;\n",
       "    }\n",
       "\n",
       "    .dataframe tbody tr th {\n",
       "        vertical-align: top;\n",
       "    }\n",
       "\n",
       "    .dataframe thead th {\n",
       "        text-align: right;\n",
       "    }\n",
       "</style>\n",
       "<table border=\"1\" class=\"dataframe\">\n",
       "  <thead>\n",
       "    <tr style=\"text-align: right;\">\n",
       "      <th></th>\n",
       "      <th>lead_time</th>\n",
       "      <th>stays_in_weekend_nights</th>\n",
       "      <th>stays_in_week_nights</th>\n",
       "      <th>adults</th>\n",
       "      <th>children</th>\n",
       "      <th>babies</th>\n",
       "      <th>is_repeated_guest</th>\n",
       "      <th>previous_cancellations</th>\n",
       "      <th>previous_bookings_not_canceled</th>\n",
       "      <th>booking_changes</th>\n",
       "      <th>...</th>\n",
       "      <th>Groups</th>\n",
       "      <th>Offline TA/TO</th>\n",
       "      <th>Online TA</th>\n",
       "      <th>No Deposit</th>\n",
       "      <th>Non Refund</th>\n",
       "      <th>Refundable</th>\n",
       "      <th>Contract</th>\n",
       "      <th>Group</th>\n",
       "      <th>Transient</th>\n",
       "      <th>Transient-Party</th>\n",
       "    </tr>\n",
       "  </thead>\n",
       "  <tbody>\n",
       "    <tr>\n",
       "      <th>9775</th>\n",
       "      <td>74</td>\n",
       "      <td>1</td>\n",
       "      <td>0</td>\n",
       "      <td>2</td>\n",
       "      <td>0.0</td>\n",
       "      <td>0</td>\n",
       "      <td>0</td>\n",
       "      <td>0</td>\n",
       "      <td>0</td>\n",
       "      <td>0</td>\n",
       "      <td>...</td>\n",
       "      <td>0</td>\n",
       "      <td>0</td>\n",
       "      <td>1</td>\n",
       "      <td>1</td>\n",
       "      <td>0</td>\n",
       "      <td>0</td>\n",
       "      <td>0</td>\n",
       "      <td>0</td>\n",
       "      <td>1</td>\n",
       "      <td>0</td>\n",
       "    </tr>\n",
       "    <tr>\n",
       "      <th>9776</th>\n",
       "      <td>62</td>\n",
       "      <td>2</td>\n",
       "      <td>2</td>\n",
       "      <td>2</td>\n",
       "      <td>0.0</td>\n",
       "      <td>0</td>\n",
       "      <td>0</td>\n",
       "      <td>0</td>\n",
       "      <td>0</td>\n",
       "      <td>0</td>\n",
       "      <td>...</td>\n",
       "      <td>0</td>\n",
       "      <td>0</td>\n",
       "      <td>1</td>\n",
       "      <td>1</td>\n",
       "      <td>0</td>\n",
       "      <td>0</td>\n",
       "      <td>0</td>\n",
       "      <td>0</td>\n",
       "      <td>1</td>\n",
       "      <td>0</td>\n",
       "    </tr>\n",
       "    <tr>\n",
       "      <th>9777</th>\n",
       "      <td>62</td>\n",
       "      <td>2</td>\n",
       "      <td>2</td>\n",
       "      <td>2</td>\n",
       "      <td>0.0</td>\n",
       "      <td>0</td>\n",
       "      <td>0</td>\n",
       "      <td>0</td>\n",
       "      <td>0</td>\n",
       "      <td>0</td>\n",
       "      <td>...</td>\n",
       "      <td>0</td>\n",
       "      <td>0</td>\n",
       "      <td>1</td>\n",
       "      <td>1</td>\n",
       "      <td>0</td>\n",
       "      <td>0</td>\n",
       "      <td>0</td>\n",
       "      <td>0</td>\n",
       "      <td>1</td>\n",
       "      <td>0</td>\n",
       "    </tr>\n",
       "    <tr>\n",
       "      <th>9778</th>\n",
       "      <td>62</td>\n",
       "      <td>2</td>\n",
       "      <td>2</td>\n",
       "      <td>2</td>\n",
       "      <td>0.0</td>\n",
       "      <td>0</td>\n",
       "      <td>0</td>\n",
       "      <td>0</td>\n",
       "      <td>0</td>\n",
       "      <td>0</td>\n",
       "      <td>...</td>\n",
       "      <td>0</td>\n",
       "      <td>0</td>\n",
       "      <td>1</td>\n",
       "      <td>1</td>\n",
       "      <td>0</td>\n",
       "      <td>0</td>\n",
       "      <td>0</td>\n",
       "      <td>0</td>\n",
       "      <td>1</td>\n",
       "      <td>0</td>\n",
       "    </tr>\n",
       "    <tr>\n",
       "      <th>9779</th>\n",
       "      <td>71</td>\n",
       "      <td>2</td>\n",
       "      <td>2</td>\n",
       "      <td>1</td>\n",
       "      <td>0.0</td>\n",
       "      <td>0</td>\n",
       "      <td>0</td>\n",
       "      <td>0</td>\n",
       "      <td>0</td>\n",
       "      <td>0</td>\n",
       "      <td>...</td>\n",
       "      <td>0</td>\n",
       "      <td>0</td>\n",
       "      <td>1</td>\n",
       "      <td>1</td>\n",
       "      <td>0</td>\n",
       "      <td>0</td>\n",
       "      <td>0</td>\n",
       "      <td>0</td>\n",
       "      <td>1</td>\n",
       "      <td>0</td>\n",
       "    </tr>\n",
       "    <tr>\n",
       "      <th>...</th>\n",
       "      <td>...</td>\n",
       "      <td>...</td>\n",
       "      <td>...</td>\n",
       "      <td>...</td>\n",
       "      <td>...</td>\n",
       "      <td>...</td>\n",
       "      <td>...</td>\n",
       "      <td>...</td>\n",
       "      <td>...</td>\n",
       "      <td>...</td>\n",
       "      <td>...</td>\n",
       "      <td>...</td>\n",
       "      <td>...</td>\n",
       "      <td>...</td>\n",
       "      <td>...</td>\n",
       "      <td>...</td>\n",
       "      <td>...</td>\n",
       "      <td>...</td>\n",
       "      <td>...</td>\n",
       "      <td>...</td>\n",
       "      <td>...</td>\n",
       "    </tr>\n",
       "    <tr>\n",
       "      <th>119385</th>\n",
       "      <td>23</td>\n",
       "      <td>2</td>\n",
       "      <td>5</td>\n",
       "      <td>2</td>\n",
       "      <td>0.0</td>\n",
       "      <td>0</td>\n",
       "      <td>0</td>\n",
       "      <td>0</td>\n",
       "      <td>0</td>\n",
       "      <td>0</td>\n",
       "      <td>...</td>\n",
       "      <td>0</td>\n",
       "      <td>1</td>\n",
       "      <td>0</td>\n",
       "      <td>1</td>\n",
       "      <td>0</td>\n",
       "      <td>0</td>\n",
       "      <td>0</td>\n",
       "      <td>0</td>\n",
       "      <td>1</td>\n",
       "      <td>0</td>\n",
       "    </tr>\n",
       "    <tr>\n",
       "      <th>119386</th>\n",
       "      <td>102</td>\n",
       "      <td>2</td>\n",
       "      <td>5</td>\n",
       "      <td>3</td>\n",
       "      <td>0.0</td>\n",
       "      <td>0</td>\n",
       "      <td>0</td>\n",
       "      <td>0</td>\n",
       "      <td>0</td>\n",
       "      <td>0</td>\n",
       "      <td>...</td>\n",
       "      <td>0</td>\n",
       "      <td>0</td>\n",
       "      <td>1</td>\n",
       "      <td>1</td>\n",
       "      <td>0</td>\n",
       "      <td>0</td>\n",
       "      <td>0</td>\n",
       "      <td>0</td>\n",
       "      <td>1</td>\n",
       "      <td>0</td>\n",
       "    </tr>\n",
       "    <tr>\n",
       "      <th>119387</th>\n",
       "      <td>34</td>\n",
       "      <td>2</td>\n",
       "      <td>5</td>\n",
       "      <td>2</td>\n",
       "      <td>0.0</td>\n",
       "      <td>0</td>\n",
       "      <td>0</td>\n",
       "      <td>0</td>\n",
       "      <td>0</td>\n",
       "      <td>0</td>\n",
       "      <td>...</td>\n",
       "      <td>0</td>\n",
       "      <td>0</td>\n",
       "      <td>1</td>\n",
       "      <td>1</td>\n",
       "      <td>0</td>\n",
       "      <td>0</td>\n",
       "      <td>0</td>\n",
       "      <td>0</td>\n",
       "      <td>1</td>\n",
       "      <td>0</td>\n",
       "    </tr>\n",
       "    <tr>\n",
       "      <th>119388</th>\n",
       "      <td>109</td>\n",
       "      <td>2</td>\n",
       "      <td>5</td>\n",
       "      <td>2</td>\n",
       "      <td>0.0</td>\n",
       "      <td>0</td>\n",
       "      <td>0</td>\n",
       "      <td>0</td>\n",
       "      <td>0</td>\n",
       "      <td>0</td>\n",
       "      <td>...</td>\n",
       "      <td>0</td>\n",
       "      <td>0</td>\n",
       "      <td>1</td>\n",
       "      <td>1</td>\n",
       "      <td>0</td>\n",
       "      <td>0</td>\n",
       "      <td>0</td>\n",
       "      <td>0</td>\n",
       "      <td>1</td>\n",
       "      <td>0</td>\n",
       "    </tr>\n",
       "    <tr>\n",
       "      <th>119389</th>\n",
       "      <td>205</td>\n",
       "      <td>2</td>\n",
       "      <td>7</td>\n",
       "      <td>2</td>\n",
       "      <td>0.0</td>\n",
       "      <td>0</td>\n",
       "      <td>0</td>\n",
       "      <td>0</td>\n",
       "      <td>0</td>\n",
       "      <td>0</td>\n",
       "      <td>...</td>\n",
       "      <td>0</td>\n",
       "      <td>0</td>\n",
       "      <td>1</td>\n",
       "      <td>1</td>\n",
       "      <td>0</td>\n",
       "      <td>0</td>\n",
       "      <td>0</td>\n",
       "      <td>0</td>\n",
       "      <td>1</td>\n",
       "      <td>0</td>\n",
       "    </tr>\n",
       "  </tbody>\n",
       "</table>\n",
       "<p>40687 rows × 27 columns</p>\n",
       "</div>"
      ],
      "text/plain": [
       "        lead_time  stays_in_weekend_nights  stays_in_week_nights  adults  \\\n",
       "9775           74                        1                     0       2   \n",
       "9776           62                        2                     2       2   \n",
       "9777           62                        2                     2       2   \n",
       "9778           62                        2                     2       2   \n",
       "9779           71                        2                     2       1   \n",
       "...           ...                      ...                   ...     ...   \n",
       "119385         23                        2                     5       2   \n",
       "119386        102                        2                     5       3   \n",
       "119387         34                        2                     5       2   \n",
       "119388        109                        2                     5       2   \n",
       "119389        205                        2                     7       2   \n",
       "\n",
       "        children  babies  is_repeated_guest  previous_cancellations  \\\n",
       "9775         0.0       0                  0                       0   \n",
       "9776         0.0       0                  0                       0   \n",
       "9777         0.0       0                  0                       0   \n",
       "9778         0.0       0                  0                       0   \n",
       "9779         0.0       0                  0                       0   \n",
       "...          ...     ...                ...                     ...   \n",
       "119385       0.0       0                  0                       0   \n",
       "119386       0.0       0                  0                       0   \n",
       "119387       0.0       0                  0                       0   \n",
       "119388       0.0       0                  0                       0   \n",
       "119389       0.0       0                  0                       0   \n",
       "\n",
       "        previous_bookings_not_canceled  booking_changes  ...  Groups  \\\n",
       "9775                                 0                0  ...       0   \n",
       "9776                                 0                0  ...       0   \n",
       "9777                                 0                0  ...       0   \n",
       "9778                                 0                0  ...       0   \n",
       "9779                                 0                0  ...       0   \n",
       "...                                ...              ...  ...     ...   \n",
       "119385                               0                0  ...       0   \n",
       "119386                               0                0  ...       0   \n",
       "119387                               0                0  ...       0   \n",
       "119388                               0                0  ...       0   \n",
       "119389                               0                0  ...       0   \n",
       "\n",
       "        Offline TA/TO  Online TA  No Deposit  Non Refund  Refundable  \\\n",
       "9775                0          1           1           0           0   \n",
       "9776                0          1           1           0           0   \n",
       "9777                0          1           1           0           0   \n",
       "9778                0          1           1           0           0   \n",
       "9779                0          1           1           0           0   \n",
       "...               ...        ...         ...         ...         ...   \n",
       "119385              1          0           1           0           0   \n",
       "119386              0          1           1           0           0   \n",
       "119387              0          1           1           0           0   \n",
       "119388              0          1           1           0           0   \n",
       "119389              0          1           1           0           0   \n",
       "\n",
       "        Contract  Group  Transient  Transient-Party  \n",
       "9775           0      0          1                0  \n",
       "9776           0      0          1                0  \n",
       "9777           0      0          1                0  \n",
       "9778           0      0          1                0  \n",
       "9779           0      0          1                0  \n",
       "...          ...    ...        ...              ...  \n",
       "119385         0      0          1                0  \n",
       "119386         0      0          1                0  \n",
       "119387         0      0          1                0  \n",
       "119388         0      0          1                0  \n",
       "119389         0      0          1                0  \n",
       "\n",
       "[40687 rows x 27 columns]"
      ]
     },
     "execution_count": 38,
     "metadata": {},
     "output_type": "execute_result"
    }
   ],
   "source": [
    "X"
   ]
  },
  {
   "cell_type": "code",
   "execution_count": 39,
   "id": "2c3d1dc1",
   "metadata": {},
   "outputs": [
    {
     "data": {
      "text/plain": [
       "9775      1\n",
       "9776      1\n",
       "9777      1\n",
       "9778      1\n",
       "9779      1\n",
       "         ..\n",
       "119385    0\n",
       "119386    0\n",
       "119387    0\n",
       "119388    0\n",
       "119389    0\n",
       "Name: is_canceled, Length: 40687, dtype: int64"
      ]
     },
     "execution_count": 39,
     "metadata": {},
     "output_type": "execute_result"
    }
   ],
   "source": [
    "y"
   ]
  },
  {
   "cell_type": "code",
   "execution_count": 40,
   "id": "e06c39df",
   "metadata": {},
   "outputs": [],
   "source": [
    "from sklearn.model_selection import train_test_split\n",
    "\n",
    "#70% of the data is used for training and 30% is used for testing\n",
    "X_train, X_test, y_train, y_test = train_test_split(X, y, test_size = 0.30, random_state = 10)"
   ]
  },
  {
   "cell_type": "markdown",
   "id": "00b978c3",
   "metadata": {},
   "source": [
    "## Perform standardization"
   ]
  },
  {
   "cell_type": "code",
   "execution_count": 41,
   "id": "08856dc0",
   "metadata": {},
   "outputs": [],
   "source": [
    "from sklearn.preprocessing import StandardScaler\n",
    "\n",
    "sc = StandardScaler()\n",
    "X_train = sc.fit_transform(X_train)\n",
    "X_test = sc.transform(X_test)"
   ]
  },
  {
   "cell_type": "markdown",
   "id": "0ebb876b",
   "metadata": {},
   "source": [
    "## Fit the models to training data"
   ]
  },
  {
   "cell_type": "markdown",
   "id": "e5626a34",
   "metadata": {},
   "source": [
    "#### Logistic Regression Model"
   ]
  },
  {
   "cell_type": "code",
   "execution_count": 42,
   "id": "f60b3dca",
   "metadata": {},
   "outputs": [
    {
     "data": {
      "text/plain": [
       "LogisticRegression()"
      ]
     },
     "execution_count": 42,
     "metadata": {},
     "output_type": "execute_result"
    }
   ],
   "source": [
    "from sklearn.linear_model import LogisticRegression\n",
    "\n",
    "#logistic regression model\n",
    "logistic_model = LogisticRegression()\n",
    "\n",
    "logistic_model.fit(X_train, y_train)"
   ]
  },
  {
   "cell_type": "markdown",
   "id": "6a63aca4",
   "metadata": {},
   "source": [
    "#### Decision Tree Model"
   ]
  },
  {
   "cell_type": "code",
   "execution_count": 43,
   "id": "b0194e64",
   "metadata": {},
   "outputs": [
    {
     "data": {
      "text/plain": [
       "DecisionTreeClassifier()"
      ]
     },
     "execution_count": 43,
     "metadata": {},
     "output_type": "execute_result"
    }
   ],
   "source": [
    "from sklearn.tree import DecisionTreeClassifier\n",
    "dt = DecisionTreeClassifier()\n",
    "dt.fit(X_train, y_train)"
   ]
  },
  {
   "cell_type": "markdown",
   "id": "ce44d5d0",
   "metadata": {},
   "source": [
    "#### Random Forest Model"
   ]
  },
  {
   "cell_type": "code",
   "execution_count": 44,
   "id": "8b440af3",
   "metadata": {},
   "outputs": [
    {
     "data": {
      "text/plain": [
       "RandomForestClassifier(n_estimators=10, random_state=1)"
      ]
     },
     "execution_count": 44,
     "metadata": {},
     "output_type": "execute_result"
    }
   ],
   "source": [
    "from sklearn.ensemble import RandomForestClassifier\n",
    "rf = RandomForestClassifier(n_estimators=10, criterion='gini',random_state=1)\n",
    "rf.fit(X_train,y_train)"
   ]
  },
  {
   "cell_type": "markdown",
   "id": "d7875aa7",
   "metadata": {},
   "source": [
    "#### KNN Model"
   ]
  },
  {
   "cell_type": "code",
   "execution_count": 45,
   "id": "0c0620a2",
   "metadata": {},
   "outputs": [
    {
     "data": {
      "text/plain": [
       "KNeighborsClassifier()"
      ]
     },
     "execution_count": 45,
     "metadata": {},
     "output_type": "execute_result"
    }
   ],
   "source": [
    "from sklearn.neighbors import KNeighborsClassifier\n",
    "knn = KNeighborsClassifier(n_neighbors=5)\n",
    "knn.fit(X_train, y_train)"
   ]
  },
  {
   "cell_type": "markdown",
   "id": "8cabcdb5",
   "metadata": {},
   "source": [
    "#### Naive Bayes Model"
   ]
  },
  {
   "cell_type": "code",
   "execution_count": 46,
   "id": "2e68434a",
   "metadata": {},
   "outputs": [
    {
     "data": {
      "text/plain": [
       "GaussianNB()"
      ]
     },
     "execution_count": 46,
     "metadata": {},
     "output_type": "execute_result"
    }
   ],
   "source": [
    "from sklearn.naive_bayes import GaussianNB\n",
    "gnb = GaussianNB()\n",
    "gnb.fit(X_train, y_train.ravel())"
   ]
  },
  {
   "cell_type": "markdown",
   "id": "2b8b6112",
   "metadata": {},
   "source": [
    "#### Support Vector machines Model"
   ]
  },
  {
   "cell_type": "code",
   "execution_count": 47,
   "id": "507cfebb",
   "metadata": {},
   "outputs": [],
   "source": [
    "from sklearn import svm"
   ]
  },
  {
   "cell_type": "code",
   "execution_count": 48,
   "id": "43df08ce",
   "metadata": {},
   "outputs": [],
   "source": [
    "linear = svm.SVC(kernel='linear', C=1, decision_function_shape='ovo').fit(X_train, y_train)"
   ]
  },
  {
   "cell_type": "code",
   "execution_count": 49,
   "id": "6b4fe156",
   "metadata": {},
   "outputs": [],
   "source": [
    "rbf = svm.SVC(kernel='rbf', gamma=1, C=1, decision_function_shape='ovo').fit(X_train, y_train)"
   ]
  },
  {
   "cell_type": "code",
   "execution_count": 50,
   "id": "cd6db952",
   "metadata": {},
   "outputs": [],
   "source": [
    "poly = svm.SVC(kernel='poly', degree=3, C=1, decision_function_shape='ovo').fit(X_train, y_train)"
   ]
  },
  {
   "cell_type": "code",
   "execution_count": 51,
   "id": "0ef37414",
   "metadata": {},
   "outputs": [],
   "source": [
    "sig = svm.SVC(kernel='sigmoid', C=1, decision_function_shape='ovo').fit(X_train, y_train)"
   ]
  },
  {
   "cell_type": "markdown",
   "id": "990956b3",
   "metadata": {},
   "source": [
    "## Perform 5 fold cross validation"
   ]
  },
  {
   "cell_type": "code",
   "execution_count": 52,
   "id": "4a8ac52e",
   "metadata": {},
   "outputs": [],
   "source": [
    "#list\n",
    "cross_val_list=[]\n",
    "\n",
    "#import library\n",
    "\n",
    "from sklearn.model_selection import cross_val_score\n",
    "from sklearn.model_selection import KFold \n",
    "k = 5\n",
    "kf = KFold(n_splits=k)"
   ]
  },
  {
   "cell_type": "markdown",
   "id": "63769e7c",
   "metadata": {},
   "source": [
    "#### Logitic regression"
   ]
  },
  {
   "cell_type": "code",
   "execution_count": 53,
   "id": "9d728073",
   "metadata": {},
   "outputs": [
    {
     "name": "stdout",
     "output_type": "stream",
     "text": [
      " Avg accuracy:0.7706109550561797\n"
     ]
    }
   ],
   "source": [
    "lr_result = cross_val_score(logistic_model, X_train, y_train.ravel(), cv = kf, scoring='accuracy')\n",
    "lr_accuracy=lr_result.mean()\n",
    "print(f' Avg accuracy:{lr_accuracy}')\n",
    "\n",
    "cross_val_list.append(lr_accuracy)"
   ]
  },
  {
   "cell_type": "markdown",
   "id": "5d1762be",
   "metadata": {},
   "source": [
    "#### Decision Tree"
   ]
  },
  {
   "cell_type": "code",
   "execution_count": 54,
   "id": "cd3972d8",
   "metadata": {},
   "outputs": [
    {
     "name": "stdout",
     "output_type": "stream",
     "text": [
      " Avg accuracy:0.764747191011236\n"
     ]
    }
   ],
   "source": [
    "dt_result = cross_val_score(dt, X_train, y_train.ravel(), cv = kf, scoring='accuracy')\n",
    "dt_accuracy=dt_result.mean()\n",
    "print(f' Avg accuracy:{dt_accuracy}')\n",
    "\n",
    "cross_val_list.append(dt_accuracy)"
   ]
  },
  {
   "cell_type": "markdown",
   "id": "3ccadac1",
   "metadata": {},
   "source": [
    "#### Random Forest"
   ]
  },
  {
   "cell_type": "code",
   "execution_count": 55,
   "id": "d92eccab",
   "metadata": {},
   "outputs": [
    {
     "name": "stdout",
     "output_type": "stream",
     "text": [
      " Avg accuracy:0.7789676966292134\n"
     ]
    }
   ],
   "source": [
    "rf_result = cross_val_score(rf, X_train, y_train, cv = kf, scoring='accuracy')\n",
    "rf_accuracy=rf_result.mean()\n",
    "print(f' Avg accuracy:{rf_accuracy}')\n",
    "\n",
    "cross_val_list.append(rf_accuracy)"
   ]
  },
  {
   "cell_type": "markdown",
   "id": "c882b3c3",
   "metadata": {},
   "source": [
    "#### KNN"
   ]
  },
  {
   "cell_type": "code",
   "execution_count": 56,
   "id": "6b7aff07",
   "metadata": {},
   "outputs": [
    {
     "name": "stdout",
     "output_type": "stream",
     "text": [
      " Avg accuracy:0.7789676966292134\n"
     ]
    }
   ],
   "source": [
    "knn_result = cross_val_score(knn, X_train, y_train, cv = kf, scoring='accuracy')\n",
    "knn_accuracy=rf_result.mean()\n",
    "print(f' Avg accuracy:{knn_accuracy}')\n",
    "\n",
    "cross_val_list.append(knn_accuracy)"
   ]
  },
  {
   "cell_type": "markdown",
   "id": "1a229aca",
   "metadata": {},
   "source": [
    "#### Naive Bayes"
   ]
  },
  {
   "cell_type": "code",
   "execution_count": 57,
   "id": "b17aba71",
   "metadata": {},
   "outputs": [
    {
     "name": "stdout",
     "output_type": "stream",
     "text": [
      " Avg accuracy:0.5518609550561797\n"
     ]
    }
   ],
   "source": [
    "gnb_result = cross_val_score(gnb, X_train, y_train.ravel(), cv = kf, scoring='accuracy')\n",
    "gnb_accuracy=gnb_result.mean()\n",
    "print(f' Avg accuracy:{gnb_accuracy}')\n",
    "\n",
    "cross_val_list.append(gnb_accuracy)"
   ]
  },
  {
   "cell_type": "markdown",
   "id": "66185b8a",
   "metadata": {},
   "source": [
    "#### Support Vector machines"
   ]
  },
  {
   "cell_type": "code",
   "execution_count": 58,
   "id": "4832c1c3",
   "metadata": {},
   "outputs": [
    {
     "name": "stdout",
     "output_type": "stream",
     "text": [
      " Avg accuracy:0.768433988764045\n"
     ]
    }
   ],
   "source": [
    "linear_result=cross_val_score(linear, X_train, y_train.ravel(), cv = kf, scoring='accuracy')\n",
    "linear_accuracy=linear_result.mean()\n",
    "print(f' Avg accuracy:{linear_accuracy}')\n",
    "\n",
    "cross_val_list.append(linear_accuracy)"
   ]
  },
  {
   "cell_type": "code",
   "execution_count": 59,
   "id": "48f90468",
   "metadata": {},
   "outputs": [
    {
     "name": "stdout",
     "output_type": "stream",
     "text": [
      " Avg accuracy:0.768433988764045\n"
     ]
    }
   ],
   "source": [
    "rbf_result=cross_val_score(rbf, X_train, y_train.ravel(), cv = kf, scoring='accuracy')\n",
    "rbf_accuracy=linear_result.mean()\n",
    "print(f' Avg accuracy:{rbf_accuracy}')\n",
    "\n",
    "cross_val_list.append(rbf_accuracy)"
   ]
  },
  {
   "cell_type": "code",
   "execution_count": 60,
   "id": "fcf5152b",
   "metadata": {},
   "outputs": [
    {
     "name": "stdout",
     "output_type": "stream",
     "text": [
      " Avg accuracy:0.768433988764045\n"
     ]
    }
   ],
   "source": [
    "poly_result=cross_val_score(poly, X_train, y_train.ravel(), cv = kf, scoring='accuracy')\n",
    "poly_accuracy=linear_result.mean()\n",
    "print(f' Avg accuracy:{poly_accuracy}')\n",
    "\n",
    "cross_val_list.append(poly_accuracy)"
   ]
  },
  {
   "cell_type": "code",
   "execution_count": 61,
   "id": "5a441162",
   "metadata": {},
   "outputs": [
    {
     "name": "stdout",
     "output_type": "stream",
     "text": [
      " Avg accuracy:0.7004213483146068\n"
     ]
    }
   ],
   "source": [
    "sig_result=cross_val_score(sig, X_train, y_train.ravel(), cv = kf, scoring='accuracy')\n",
    "sig_accuracy=sig_result.mean()\n",
    "print(f' Avg accuracy:{sig_accuracy}')\n",
    "\n",
    "cross_val_list.append(sig_accuracy)"
   ]
  },
  {
   "cell_type": "markdown",
   "id": "0935bbb8",
   "metadata": {},
   "source": [
    "## cross validation graph"
   ]
  },
  {
   "cell_type": "code",
   "execution_count": 62,
   "id": "2ba6c586",
   "metadata": {},
   "outputs": [],
   "source": [
    "x_label=['LOG-R', 'DT', 'RF','KNN','GNB','SVM_linear','SVM_rbf','SVM_poly','SVM_sig']"
   ]
  },
  {
   "cell_type": "code",
   "execution_count": 63,
   "id": "f5467f51",
   "metadata": {},
   "outputs": [
    {
     "data": {
      "text/plain": [
       "[0.7706109550561797,\n",
       " 0.764747191011236,\n",
       " 0.7789676966292134,\n",
       " 0.7789676966292134,\n",
       " 0.5518609550561797,\n",
       " 0.768433988764045,\n",
       " 0.768433988764045,\n",
       " 0.768433988764045,\n",
       " 0.7004213483146068]"
      ]
     },
     "execution_count": 63,
     "metadata": {},
     "output_type": "execute_result"
    }
   ],
   "source": [
    "cross_val_list"
   ]
  },
  {
   "cell_type": "markdown",
   "id": "1d5e08de",
   "metadata": {},
   "source": [
    "## make predictions"
   ]
  },
  {
   "cell_type": "code",
   "execution_count": 64,
   "id": "691f4624",
   "metadata": {},
   "outputs": [],
   "source": [
    "#logistic regression predictions\n",
    "y_pred_lr = logistic_model.predict(X_test)"
   ]
  },
  {
   "cell_type": "code",
   "execution_count": 65,
   "id": "f1cc761f",
   "metadata": {},
   "outputs": [],
   "source": [
    "#decision tree predictions\n",
    "y_pred_dt = dt.predict(X_test)"
   ]
  },
  {
   "cell_type": "code",
   "execution_count": 66,
   "id": "001be898",
   "metadata": {},
   "outputs": [],
   "source": [
    "#random forest predictions\n",
    "y_pred_rf = rf.predict(X_test)"
   ]
  },
  {
   "cell_type": "code",
   "execution_count": 67,
   "id": "db315dd2",
   "metadata": {},
   "outputs": [],
   "source": [
    "#knn predictions\n",
    "y_pred_knn = knn.predict(X_test)"
   ]
  },
  {
   "cell_type": "code",
   "execution_count": 68,
   "id": "e8255313",
   "metadata": {},
   "outputs": [],
   "source": [
    "#Naive Bayes predictions\n",
    "y_pred_gnb = gnb.predict(X_test)"
   ]
  },
  {
   "cell_type": "code",
   "execution_count": 69,
   "id": "24b4195e",
   "metadata": {},
   "outputs": [],
   "source": [
    "#Support Vector machines predictions\n",
    "y_linear_pred = linear.predict(X_test)\n",
    "y_poly_pred = poly.predict(X_test)\n",
    "y_rbf_pred = rbf.predict(X_test)\n",
    "y_sig_pred = sig.predict(X_test)"
   ]
  },
  {
   "cell_type": "markdown",
   "id": "8b93517b",
   "metadata": {},
   "source": [
    "## Classification reports"
   ]
  },
  {
   "cell_type": "code",
   "execution_count": 70,
   "id": "a3deff35",
   "metadata": {},
   "outputs": [],
   "source": [
    "accuracy  = []\n",
    "precision = []\n",
    "recall    = []\n",
    "f1        = []"
   ]
  },
  {
   "cell_type": "markdown",
   "id": "e02dbe83",
   "metadata": {},
   "source": [
    "#### logistic regression classification report"
   ]
  },
  {
   "cell_type": "code",
   "execution_count": 71,
   "id": "1bb7f703",
   "metadata": {},
   "outputs": [
    {
     "data": {
      "text/plain": [
       "array([[6570,  825],\n",
       "       [2011, 2801]])"
      ]
     },
     "execution_count": 71,
     "metadata": {},
     "output_type": "execute_result"
    }
   ],
   "source": [
    "from sklearn.metrics import confusion_matrix\n",
    "\n",
    "confusion_matrix(y_test, y_pred_lr)"
   ]
  },
  {
   "cell_type": "code",
   "execution_count": 72,
   "id": "d72fbfbc",
   "metadata": {},
   "outputs": [
    {
     "data": {
      "text/html": [
       "<div>\n",
       "<style scoped>\n",
       "    .dataframe tbody tr th:only-of-type {\n",
       "        vertical-align: middle;\n",
       "    }\n",
       "\n",
       "    .dataframe tbody tr th {\n",
       "        vertical-align: top;\n",
       "    }\n",
       "\n",
       "    .dataframe thead th {\n",
       "        text-align: right;\n",
       "    }\n",
       "</style>\n",
       "<table border=\"1\" class=\"dataframe\">\n",
       "  <thead>\n",
       "    <tr style=\"text-align: right;\">\n",
       "      <th></th>\n",
       "      <th>Actual Positive (Cancel)</th>\n",
       "      <th>Actual Negative (not Cancel)</th>\n",
       "    </tr>\n",
       "  </thead>\n",
       "  <tbody>\n",
       "    <tr>\n",
       "      <th>Predicted Positive Cancel</th>\n",
       "      <td>6570</td>\n",
       "      <td>825</td>\n",
       "    </tr>\n",
       "    <tr>\n",
       "      <th>Predicted Negative (not Cancel)</th>\n",
       "      <td>2011</td>\n",
       "      <td>2801</td>\n",
       "    </tr>\n",
       "  </tbody>\n",
       "</table>\n",
       "</div>"
      ],
      "text/plain": [
       "                                 Actual Positive (Cancel)  \\\n",
       "Predicted Positive Cancel                            6570   \n",
       "Predicted Negative (not Cancel)                      2011   \n",
       "\n",
       "                                 Actual Negative (not Cancel)  \n",
       "Predicted Positive Cancel                                 825  \n",
       "Predicted Negative (not Cancel)                          2801  "
      ]
     },
     "execution_count": 72,
     "metadata": {},
     "output_type": "execute_result"
    }
   ],
   "source": [
    "pd.DataFrame(confusion_matrix(y_test, y_pred_lr), columns = ['Actual Positive (Cancel)', 'Actual Negative (not Cancel)'], index = [ 'Predicted Positive Cancel', 'Predicted Negative (not Cancel)']          )"
   ]
  },
  {
   "cell_type": "code",
   "execution_count": 73,
   "id": "396f4337",
   "metadata": {},
   "outputs": [
    {
     "name": "stdout",
     "output_type": "stream",
     "text": [
      "              precision    recall  f1-score   support\n",
      "\n",
      "           0       0.77      0.89      0.82      7395\n",
      "           1       0.77      0.58      0.66      4812\n",
      "\n",
      "    accuracy                           0.77     12207\n",
      "   macro avg       0.77      0.74      0.74     12207\n",
      "weighted avg       0.77      0.77      0.76     12207\n",
      "\n"
     ]
    }
   ],
   "source": [
    "from sklearn.metrics import classification_report\n",
    "\n",
    "print(classification_report(y_test, y_pred_lr))"
   ]
  },
  {
   "cell_type": "code",
   "execution_count": 74,
   "id": "d93fc27d",
   "metadata": {},
   "outputs": [],
   "source": [
    "accuracy.append(0.77)\n",
    "precision.append(0.77)\n",
    "recall.append(0.77)\n",
    "f1.append(0.76)"
   ]
  },
  {
   "cell_type": "markdown",
   "id": "50c3e093",
   "metadata": {},
   "source": [
    "#### decision tree classification report"
   ]
  },
  {
   "cell_type": "code",
   "execution_count": 75,
   "id": "100e6b80",
   "metadata": {},
   "outputs": [
    {
     "name": "stdout",
     "output_type": "stream",
     "text": [
      "              precision    recall  f1-score   support\n",
      "\n",
      "           0       0.79      0.82      0.80      7395\n",
      "           1       0.70      0.66      0.68      4812\n",
      "\n",
      "    accuracy                           0.76     12207\n",
      "   macro avg       0.75      0.74      0.74     12207\n",
      "weighted avg       0.75      0.76      0.75     12207\n",
      "\n"
     ]
    }
   ],
   "source": [
    "print(classification_report(y_test, y_pred_dt))"
   ]
  },
  {
   "cell_type": "code",
   "execution_count": 76,
   "id": "9555894c",
   "metadata": {},
   "outputs": [],
   "source": [
    "accuracy.append(0.76)\n",
    "precision.append(0.75)\n",
    "recall.append(0.76)\n",
    "f1.append(0.76)"
   ]
  },
  {
   "cell_type": "markdown",
   "id": "3c385161",
   "metadata": {},
   "source": [
    "#### random forest classification report"
   ]
  },
  {
   "cell_type": "code",
   "execution_count": 77,
   "id": "4253ee16",
   "metadata": {},
   "outputs": [
    {
     "name": "stdout",
     "output_type": "stream",
     "text": [
      "              precision    recall  f1-score   support\n",
      "\n",
      "           0       0.80      0.85      0.82      7395\n",
      "           1       0.74      0.67      0.70      4812\n",
      "\n",
      "    accuracy                           0.78     12207\n",
      "   macro avg       0.77      0.76      0.76     12207\n",
      "weighted avg       0.77      0.78      0.77     12207\n",
      "\n"
     ]
    }
   ],
   "source": [
    "print(classification_report(y_test, y_pred_rf))"
   ]
  },
  {
   "cell_type": "code",
   "execution_count": 78,
   "id": "eb60ff1a",
   "metadata": {},
   "outputs": [],
   "source": [
    "accuracy.append(0.78)\n",
    "precision.append(0.77)\n",
    "recall.append(0.78)\n",
    "f1.append(0.77)"
   ]
  },
  {
   "cell_type": "markdown",
   "id": "5ece065b",
   "metadata": {},
   "source": [
    "#### knn classification report"
   ]
  },
  {
   "cell_type": "code",
   "execution_count": 79,
   "id": "5ee9882e",
   "metadata": {},
   "outputs": [
    {
     "name": "stdout",
     "output_type": "stream",
     "text": [
      "              precision    recall  f1-score   support\n",
      "\n",
      "           0       0.79      0.84      0.82      7395\n",
      "           1       0.73      0.67      0.70      4812\n",
      "\n",
      "    accuracy                           0.77     12207\n",
      "   macro avg       0.76      0.75      0.76     12207\n",
      "weighted avg       0.77      0.77      0.77     12207\n",
      "\n"
     ]
    }
   ],
   "source": [
    "print(classification_report(y_test, y_pred_knn))"
   ]
  },
  {
   "cell_type": "code",
   "execution_count": 80,
   "id": "265da4dc",
   "metadata": {},
   "outputs": [],
   "source": [
    "accuracy.append(0.77)\n",
    "precision.append(0.77)\n",
    "recall.append(0.77)\n",
    "f1.append(0.77)"
   ]
  },
  {
   "cell_type": "markdown",
   "id": "bec0479c",
   "metadata": {},
   "source": [
    "#### naive bayes classification report"
   ]
  },
  {
   "cell_type": "code",
   "execution_count": 81,
   "id": "01757895",
   "metadata": {},
   "outputs": [
    {
     "name": "stdout",
     "output_type": "stream",
     "text": [
      "              precision    recall  f1-score   support\n",
      "\n",
      "           0       0.92      0.25      0.39      7395\n",
      "           1       0.46      0.97      0.62      4812\n",
      "\n",
      "    accuracy                           0.53     12207\n",
      "   macro avg       0.69      0.61      0.51     12207\n",
      "weighted avg       0.74      0.53      0.48     12207\n",
      "\n"
     ]
    }
   ],
   "source": [
    "print(classification_report(y_test, y_pred_gnb))"
   ]
  },
  {
   "cell_type": "code",
   "execution_count": 82,
   "id": "d8707eb6",
   "metadata": {},
   "outputs": [],
   "source": [
    "accuracy.append(0.53)\n",
    "precision.append(0.74)\n",
    "recall.append(0.53)\n",
    "f1.append(0.48)"
   ]
  },
  {
   "cell_type": "markdown",
   "id": "b4dca328",
   "metadata": {},
   "source": [
    "#### support vector machines classification report"
   ]
  },
  {
   "cell_type": "code",
   "execution_count": 83,
   "id": "392ee00a",
   "metadata": {},
   "outputs": [
    {
     "name": "stdout",
     "output_type": "stream",
     "text": [
      "              precision    recall  f1-score   support\n",
      "\n",
      "           0       0.75      0.90      0.82      7395\n",
      "           1       0.79      0.55      0.64      4812\n",
      "\n",
      "    accuracy                           0.76     12207\n",
      "   macro avg       0.77      0.72      0.73     12207\n",
      "weighted avg       0.77      0.76      0.75     12207\n",
      "\n"
     ]
    }
   ],
   "source": [
    "print(classification_report(y_test, y_linear_pred))"
   ]
  },
  {
   "cell_type": "code",
   "execution_count": 84,
   "id": "31265d8c",
   "metadata": {},
   "outputs": [],
   "source": [
    "accuracy.append(0.76)\n",
    "precision.append(0.77)\n",
    "recall.append(0.76)\n",
    "f1.append(0.75)"
   ]
  },
  {
   "cell_type": "code",
   "execution_count": 85,
   "id": "d8241dab",
   "metadata": {},
   "outputs": [
    {
     "name": "stdout",
     "output_type": "stream",
     "text": [
      "              precision    recall  f1-score   support\n",
      "\n",
      "           0       0.78      0.89      0.83      7395\n",
      "           1       0.78      0.61      0.68      4812\n",
      "\n",
      "    accuracy                           0.78     12207\n",
      "   macro avg       0.78      0.75      0.76     12207\n",
      "weighted avg       0.78      0.78      0.77     12207\n",
      "\n"
     ]
    }
   ],
   "source": [
    "print(classification_report(y_test, y_rbf_pred))"
   ]
  },
  {
   "cell_type": "code",
   "execution_count": 86,
   "id": "ebdcd3b0",
   "metadata": {},
   "outputs": [],
   "source": [
    "accuracy.append(0.78)\n",
    "precision.append(0.78)\n",
    "recall.append(0.78)\n",
    "f1.append(0.77)"
   ]
  },
  {
   "cell_type": "code",
   "execution_count": 87,
   "id": "82309bd0",
   "metadata": {},
   "outputs": [
    {
     "name": "stdout",
     "output_type": "stream",
     "text": [
      "              precision    recall  f1-score   support\n",
      "\n",
      "           0       0.74      0.94      0.83      7395\n",
      "           1       0.84      0.48      0.62      4812\n",
      "\n",
      "    accuracy                           0.76     12207\n",
      "   macro avg       0.79      0.71      0.72     12207\n",
      "weighted avg       0.78      0.76      0.74     12207\n",
      "\n"
     ]
    }
   ],
   "source": [
    "print(classification_report(y_test, y_poly_pred))"
   ]
  },
  {
   "cell_type": "code",
   "execution_count": 88,
   "id": "2752a4c2",
   "metadata": {},
   "outputs": [],
   "source": [
    "accuracy.append(0.76)\n",
    "precision.append(0.78)\n",
    "recall.append(0.76)\n",
    "f1.append(0.74)"
   ]
  },
  {
   "cell_type": "code",
   "execution_count": 89,
   "id": "3d45144e",
   "metadata": {},
   "outputs": [
    {
     "name": "stdout",
     "output_type": "stream",
     "text": [
      "              precision    recall  f1-score   support\n",
      "\n",
      "           0       0.74      0.76      0.75      7395\n",
      "           1       0.61      0.58      0.60      4812\n",
      "\n",
      "    accuracy                           0.69     12207\n",
      "   macro avg       0.67      0.67      0.67     12207\n",
      "weighted avg       0.69      0.69      0.69     12207\n",
      "\n"
     ]
    }
   ],
   "source": [
    "print(classification_report(y_test, y_sig_pred))"
   ]
  },
  {
   "cell_type": "code",
   "execution_count": 90,
   "id": "6968f7fb",
   "metadata": {},
   "outputs": [],
   "source": [
    "accuracy.append(0.69)\n",
    "precision.append(0.69)\n",
    "recall.append(0.69)\n",
    "f1.append(0.69)"
   ]
  },
  {
   "cell_type": "markdown",
   "id": "ed0f7179",
   "metadata": {},
   "source": [
    "## Classification graph"
   ]
  },
  {
   "cell_type": "code",
   "execution_count": 91,
   "id": "f4c2b1cf",
   "metadata": {},
   "outputs": [
    {
     "name": "stdout",
     "output_type": "stream",
     "text": [
      "['LOG-R', 'DT', 'RF', 'KNN', 'GNB', 'SVM_linear', 'SVM_rbf', 'SVM_poly', 'SVM_sig']\n",
      "[0.77, 0.76, 0.78, 0.77, 0.53, 0.76, 0.78, 0.76, 0.69]\n",
      "[0.77, 0.75, 0.77, 0.77, 0.74, 0.77, 0.78, 0.78, 0.69]\n",
      "[0.77, 0.76, 0.78, 0.77, 0.53, 0.76, 0.78, 0.76, 0.69]\n",
      "[0.76, 0.76, 0.77, 0.77, 0.48, 0.75, 0.77, 0.74, 0.69]\n"
     ]
    }
   ],
   "source": [
    "print(x_label)\n",
    "print(accuracy)\n",
    "print(precision)\n",
    "print(recall)\n",
    "print(f1)"
   ]
  },
  {
   "cell_type": "code",
   "execution_count": 92,
   "id": "534118a1",
   "metadata": {},
   "outputs": [
    {
     "data": {
      "image/png": "[encoded data removed]",
      "text/plain": [
       "<Figure size 1440x432 with 1 Axes>"
      ]
     },
     "metadata": {
      "needs_background": "light"
     },
     "output_type": "display_data"
    }
   ],
   "source": [
    "#here we use np.arange to get the number of items to place on the x-axis \n",
    "X_axis = np.arange(len(x_label))\n",
    "\n",
    "#the spacing between each bar each bar\n",
    "spacing= 0.15\n",
    "\n",
    "#setting the size of the graph\n",
    "plt.rcParams[\"figure.figsize\"] = (20,6)\n",
    "  \n",
    "#below we are plotting 4 bars for each label on the x-axis with the following syntax\n",
    "#plt.bar(star_pos_for_each_bar, list_of_values, width_of each_bar, label_name_for each bar)\n",
    "plt.bar(X_axis, accuracy, 0.25, label = 'Accuracy')\n",
    "plt.bar(X_axis + spacing, precision, 0.25, label = 'Precision')\n",
    "plt.bar(X_axis + spacing *2, recall, 0.25, label = 'Recall')\n",
    "plt.bar(X_axis + spacing *3, f1, 0.25, label = 'F1')\n",
    "\n",
    "#setting the range of values for the X axis\n",
    "plt.xticks(X_axis, x_label)\n",
    "plt.xlabel(\"Model\")\n",
    "plt.ylabel(\"Weighted Avg\")\n",
    "plt.title(\"Model vs Weighted Avg Of Various Metrics\")\n",
    "plt.legend(loc='upper right')\n",
    "\n",
    "plt.show()"
   ]
  },
  {
   "cell_type": "code",
   "execution_count": 93,
   "id": "cd20f093",
   "metadata": {},
   "outputs": [
    {
     "name": "stdout",
     "output_type": "stream",
     "text": [
      "['LOG-R', 'DT', 'RF', 'KNN', 'GNB', 'SVM_linear', 'SVM_rbf', 'SVM_poly', 'SVM_sig']\n",
      "[0.7706109550561797, 0.764747191011236, 0.7789676966292134, 0.7789676966292134, 0.5518609550561797, 0.768433988764045, 0.768433988764045, 0.768433988764045, 0.7004213483146068]\n",
      "[0.77, 0.76, 0.78, 0.77, 0.53, 0.76, 0.78, 0.76, 0.69]\n",
      "[0.77, 0.75, 0.77, 0.77, 0.74, 0.77, 0.78, 0.78, 0.69]\n",
      "[0.77, 0.76, 0.78, 0.77, 0.53, 0.76, 0.78, 0.76, 0.69]\n",
      "[0.76, 0.76, 0.77, 0.77, 0.48, 0.75, 0.77, 0.74, 0.69]\n"
     ]
    }
   ],
   "source": [
    "print(x_label)\n",
    "print(cross_val_list)\n",
    "print(accuracy)\n",
    "print(precision)\n",
    "print(recall)\n",
    "print(f1)\n",
    "\n",
    "for i in range(len(x_label)):\n",
    "    cross_val_list[i]=\"{:.2f}\".format(cross_val_list[i]*100)\n",
    "    accuracy[i]=accuracy[i]*100\n",
    "    precision[i]=precision[i]*100\n",
    "    recall[i]=recall[i]*100\n",
    "    f1[i]=f1[i]*100\n"
   ]
  },
  {
   "cell_type": "code",
   "execution_count": 94,
   "id": "1a49d36d",
   "metadata": {},
   "outputs": [
    {
     "name": "stdout",
     "output_type": "stream",
     "text": [
      "['LOG-R', 'DT', 'RF', 'KNN', 'GNB', 'SVM_linear', 'SVM_rbf', 'SVM_poly', 'SVM_sig']\n",
      "['77.06', '76.47', '77.90', '77.90', '55.19', '76.84', '76.84', '76.84', '70.04']\n",
      "[77.0, 76.0, 78.0, 77.0, 53.0, 76.0, 78.0, 76.0, 69.0]\n",
      "[77.0, 75.0, 77.0, 77.0, 74.0, 77.0, 78.0, 78.0, 69.0]\n",
      "[77.0, 76.0, 78.0, 77.0, 53.0, 76.0, 78.0, 76.0, 69.0]\n",
      "[76.0, 76.0, 77.0, 77.0, 48.0, 75.0, 77.0, 74.0, 69.0]\n"
     ]
    }
   ],
   "source": [
    "print(x_label)\n",
    "print(cross_val_list)\n",
    "print(accuracy)\n",
    "print(precision)\n",
    "print(recall)\n",
    "print(f1)"
   ]
  },
  {
   "cell_type": "code",
   "execution_count": 95,
   "id": "9193978f",
   "metadata": {},
   "outputs": [
    {
     "data": {
      "text/html": [
       "<div>\n",
       "<style scoped>\n",
       "    .dataframe tbody tr th:only-of-type {\n",
       "        vertical-align: middle;\n",
       "    }\n",
       "\n",
       "    .dataframe tbody tr th {\n",
       "        vertical-align: top;\n",
       "    }\n",
       "\n",
       "    .dataframe thead th {\n",
       "        text-align: right;\n",
       "    }\n",
       "</style>\n",
       "<table border=\"1\" class=\"dataframe\">\n",
       "  <thead>\n",
       "    <tr style=\"text-align: right;\">\n",
       "      <th></th>\n",
       "      <th>Model</th>\n",
       "      <th>CV Accuracy</th>\n",
       "      <th>Accuracy</th>\n",
       "      <th>Precision</th>\n",
       "      <th>Recall</th>\n",
       "      <th>F1</th>\n",
       "    </tr>\n",
       "  </thead>\n",
       "  <tbody>\n",
       "    <tr>\n",
       "      <th>0</th>\n",
       "      <td>LOG-R</td>\n",
       "      <td>77.06</td>\n",
       "      <td>77.0</td>\n",
       "      <td>77.0</td>\n",
       "      <td>77.0</td>\n",
       "      <td>76.0</td>\n",
       "    </tr>\n",
       "    <tr>\n",
       "      <th>1</th>\n",
       "      <td>DT</td>\n",
       "      <td>76.47</td>\n",
       "      <td>76.0</td>\n",
       "      <td>75.0</td>\n",
       "      <td>76.0</td>\n",
       "      <td>76.0</td>\n",
       "    </tr>\n",
       "    <tr>\n",
       "      <th>2</th>\n",
       "      <td>RF</td>\n",
       "      <td>77.90</td>\n",
       "      <td>78.0</td>\n",
       "      <td>77.0</td>\n",
       "      <td>78.0</td>\n",
       "      <td>77.0</td>\n",
       "    </tr>\n",
       "    <tr>\n",
       "      <th>3</th>\n",
       "      <td>KNN</td>\n",
       "      <td>77.90</td>\n",
       "      <td>77.0</td>\n",
       "      <td>77.0</td>\n",
       "      <td>77.0</td>\n",
       "      <td>77.0</td>\n",
       "    </tr>\n",
       "    <tr>\n",
       "      <th>4</th>\n",
       "      <td>GNB</td>\n",
       "      <td>55.19</td>\n",
       "      <td>53.0</td>\n",
       "      <td>74.0</td>\n",
       "      <td>53.0</td>\n",
       "      <td>48.0</td>\n",
       "    </tr>\n",
       "    <tr>\n",
       "      <th>5</th>\n",
       "      <td>SVM_linear</td>\n",
       "      <td>76.84</td>\n",
       "      <td>76.0</td>\n",
       "      <td>77.0</td>\n",
       "      <td>76.0</td>\n",
       "      <td>75.0</td>\n",
       "    </tr>\n",
       "    <tr>\n",
       "      <th>6</th>\n",
       "      <td>SVM_rbf</td>\n",
       "      <td>76.84</td>\n",
       "      <td>78.0</td>\n",
       "      <td>78.0</td>\n",
       "      <td>78.0</td>\n",
       "      <td>77.0</td>\n",
       "    </tr>\n",
       "    <tr>\n",
       "      <th>7</th>\n",
       "      <td>SVM_poly</td>\n",
       "      <td>76.84</td>\n",
       "      <td>76.0</td>\n",
       "      <td>78.0</td>\n",
       "      <td>76.0</td>\n",
       "      <td>74.0</td>\n",
       "    </tr>\n",
       "    <tr>\n",
       "      <th>8</th>\n",
       "      <td>SVM_sig</td>\n",
       "      <td>70.04</td>\n",
       "      <td>69.0</td>\n",
       "      <td>69.0</td>\n",
       "      <td>69.0</td>\n",
       "      <td>69.0</td>\n",
       "    </tr>\n",
       "  </tbody>\n",
       "</table>\n",
       "</div>"
      ],
      "text/plain": [
       "        Model CV Accuracy  Accuracy  Precision  Recall    F1\n",
       "0       LOG-R       77.06      77.0       77.0    77.0  76.0\n",
       "1          DT       76.47      76.0       75.0    76.0  76.0\n",
       "2          RF       77.90      78.0       77.0    78.0  77.0\n",
       "3         KNN       77.90      77.0       77.0    77.0  77.0\n",
       "4         GNB       55.19      53.0       74.0    53.0  48.0\n",
       "5  SVM_linear       76.84      76.0       77.0    76.0  75.0\n",
       "6     SVM_rbf       76.84      78.0       78.0    78.0  77.0\n",
       "7    SVM_poly       76.84      76.0       78.0    76.0  74.0\n",
       "8     SVM_sig       70.04      69.0       69.0    69.0  69.0"
      ]
     },
     "execution_count": 95,
     "metadata": {},
     "output_type": "execute_result"
    }
   ],
   "source": [
    "results = {'Model':['LOG-R', 'DT', 'RF','KNN','GNB','SVM_linear','SVM_rbf','SVM_poly','SVM_sig'],\n",
    "       'CV Accuracy':cross_val_list,\n",
    "       'Accuracy':accuracy,\n",
    "          'Precision':precision,\n",
    "          'Recall':recall,\n",
    "          'F1':f1}\n",
    "results_data = pd.DataFrame(results)\n",
    "results_data"
   ]
  },
  {
   "cell_type": "code",
   "execution_count": null,
   "id": "a384c107",
   "metadata": {},
   "outputs": [],
   "source": []
  }
 ],
 "metadata": {
  "kernelspec": {
   "display_name": "Python 3 (ipykernel)",
   "language": "python",
   "name": "python3"
  },
  "language_info": {
   "codemirror_mode": {
    "name": "ipython",
    "version": 3
   },
   "file_extension": ".py",
   "mimetype": "text/x-python",
   "name": "python",
   "nbconvert_exporter": "python",
   "pygments_lexer": "ipython3",
   "version": "3.9.7"
  }
 },
 "nbformat": 4,
 "nbformat_minor": 5
}
